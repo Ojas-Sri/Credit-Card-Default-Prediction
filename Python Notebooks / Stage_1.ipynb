{
  "nbformat": 4,
  "nbformat_minor": 0,
  "metadata": {
    "colab": {
      "name": "Stage-1.ipynb",
      "provenance": [],
      "collapsed_sections": [],
      "toc_visible": true,
      "include_colab_link": true
    },
    "kernelspec": {
      "name": "python3",
      "display_name": "Python 3"
    }
  },
  "cells": [
    {
      "cell_type": "markdown",
      "metadata": {
        "id": "view-in-github",
        "colab_type": "text"
      },
      "source": [
        "<a href=\"https://colab.research.google.com/github/Ojas-Sri/Credit-Card-Default-Prediction/blob/main/Python%20Notebooks%20/%20Stage_1.ipynb\" target=\"_parent\"><img src=\"https://colab.research.google.com/assets/colab-badge.svg\" alt=\"Open In Colab\"/></a>"
      ]
    },
    {
      "cell_type": "markdown",
      "metadata": {
        "id": "N2VMeEfSBMsQ"
      },
      "source": [
        "# <center>MID SEM SUBMISSION</center>\n",
        "**<center>Machine Learning Group-1 : Credit Default Detection in Financial Systems using Statistical Analysis**\n",
        "<br>\n",
        "*Supervisor: Prof Madan Gopal*\n",
        "<br>\n",
        "*Ojas Srivastava & Yatharth Jain*\n",
        "</center>\n",
        "\n",
        "---\n",
        "\n",
        "\n"
      ]
    },
    {
      "cell_type": "markdown",
      "metadata": {
        "id": "6VNuLw4cD0rF"
      },
      "source": [
        "## Variables\n",
        "There are 25 variables:\n",
        "\n",
        "* ID: ID of each client\n",
        "* LIMIT_BAL: Amount of given credit in NT dollars (includes individual and family/supplementary credit\n",
        "* SEX: Gender (1=male, 2=female)\n",
        "* EDUCATION: (1=graduate school, 2=university, 3=high school, 4=others, 5=unknown, 6=unknown)\n",
        "* MARRIAGE: Marital status (1=married, 2=single, 3=others)\n",
        "* AGE: Age in years\n",
        "* PAY_0: Repayment status in September, 2005 (-1=pay duly, 1=payment delay for one month, 2=payment delay for two months, ... 8=payment delay for eight months, 9=payment delay for nine months and above)\n",
        "* PAY_2: Repayment status in August, 2005 (scale same as above)\n",
        "* PAY_3: Repayment status in July, 2005 (scale same as above)\n",
        "* PAY_4: Repayment status in June, 2005 (scale same as above)\n",
        "* PAY_5: Repayment status in May, 2005 (scale same as above)\n",
        "* PAY_6: Repayment status in April, 2005 (scale same as above)\n",
        "* BILL_AMT1: Amount of bill statement in September, 2005 (NT dollar)\n",
        "* BILL_AMT2: Amount of bill statement in August, 2005 (NT dollar)\n",
        "* BILL_AMT3: Amount of bill statement in July, 2005 (NT dollar)\n",
        "* BILL_AMT4: Amount of bill statement in June, 2005 (NT dollar)\n",
        "* BILL_AMT5: Amount of bill statement in May, 2005 (NT dollar)\n",
        "* BILL_AMT6: Amount of bill statement in April, 2005 (NT dollar)\n",
        "* PAY_AMT1: Amount of previous payment in September, 2005 (NT dollar)\n",
        "* PAY_AMT2: Amount of previous payment in August, 2005 (NT dollar)\n",
        "* PAY_AMT3: Amount of previous payment in July, 2005 (NT dollar)\n",
        "* PAY_AMT4: Amount of previous payment in June, 2005 (NT dollar)\n",
        "* PAY_AMT5: Amount of previous payment in May, 2005 (NT dollar)\n",
        "* PAY_AMT6: Amount of previous payment in April, 2005 (NT dollar)\n",
        "* default.payment.next.month: Default payment (1=yes, 0=no)\n",
        "\n",
        "---\n"
      ]
    },
    {
      "cell_type": "markdown",
      "metadata": {
        "id": "DRLSOtbHEZ1P"
      },
      "source": [
        "##Importing Important Libraries"
      ]
    },
    {
      "cell_type": "code",
      "metadata": {
        "id": "bEhvHEM9Eegt",
        "colab": {
          "base_uri": "https://localhost:8080/",
          "height": 73
        },
        "outputId": "51395ec8-2ab4-49d5-eb69-44b00a989397"
      },
      "source": [
        "# Import basic libraries\n",
        "import numpy as np # linear algebra\n",
        "import pandas as pd # data processing, CSV file I/O (e.g. pd.read_csv)\n",
        "\n",
        "# import visualization libraries\n",
        "import seaborn as sns\n",
        "import matplotlib.pyplot as plt\n",
        "!pip install plotnine -q\n",
        "%matplotlib inline"
      ],
      "execution_count": null,
      "outputs": [
        {
          "output_type": "stream",
          "text": [
            "/usr/local/lib/python3.6/dist-packages/statsmodels/tools/_testing.py:19: FutureWarning: pandas.util.testing is deprecated. Use the functions in the public API at pandas.testing instead.\n",
            "  import pandas.util.testing as tm\n"
          ],
          "name": "stderr"
        }
      ]
    },
    {
      "cell_type": "markdown",
      "metadata": {
        "id": "W6mmxZMkEG_3"
      },
      "source": [
        "## Importing Dataset\n",
        "\n",
        "Connecting our Gdrives and calling data from there"
      ]
    },
    {
      "cell_type": "code",
      "metadata": {
        "id": "TTL8aPw_AhzT",
        "colab": {
          "base_uri": "https://localhost:8080/",
          "height": 35
        },
        "outputId": "7e8c67ba-528d-452a-f6f0-0385163b79d5"
      },
      "source": [
        "# Load the data\n",
        "#Integrating Gdrive\n",
        "from google.colab import drive\n",
        "drive.mount('/content/drive/')\n",
        "\n",
        "# Run this and click on the link to get the Authorization code and then head over to\n",
        "# files to Gdrive mounte"
      ],
      "execution_count": null,
      "outputs": [
        {
          "output_type": "stream",
          "text": [
            "Mounted at /content/drive/\n"
          ],
          "name": "stdout"
        }
      ]
    },
    {
      "cell_type": "code",
      "metadata": {
        "id": "ZRg9xx5rE2tN",
        "colab": {
          "base_uri": "https://localhost:8080/",
          "height": 226
        },
        "outputId": "6c631cb6-1460-43fb-b335-f6a1b219eccd"
      },
      "source": [
        " #Location on Ojas's Gdrive Folders\n",
        " location = \"/content/drive/My Drive/Minor Project (Machine Learning)/Credit Default /UCI_Credit_Card.csv\"\n",
        "\n",
        "#Importing the data\n",
        " df = pd.read_csv(location)\n",
        " #Inspecting the Data\n",
        " df.sample(5)\n",
        "# Import Successful"
      ],
      "execution_count": null,
      "outputs": [
        {
          "output_type": "execute_result",
          "data": {
            "text/html": [
              "<div>\n",
              "<style scoped>\n",
              "    .dataframe tbody tr th:only-of-type {\n",
              "        vertical-align: middle;\n",
              "    }\n",
              "\n",
              "    .dataframe tbody tr th {\n",
              "        vertical-align: top;\n",
              "    }\n",
              "\n",
              "    .dataframe thead th {\n",
              "        text-align: right;\n",
              "    }\n",
              "</style>\n",
              "<table border=\"1\" class=\"dataframe\">\n",
              "  <thead>\n",
              "    <tr style=\"text-align: right;\">\n",
              "      <th></th>\n",
              "      <th>ID</th>\n",
              "      <th>LIMIT_BAL</th>\n",
              "      <th>SEX</th>\n",
              "      <th>EDUCATION</th>\n",
              "      <th>MARRIAGE</th>\n",
              "      <th>AGE</th>\n",
              "      <th>PAY_0</th>\n",
              "      <th>PAY_2</th>\n",
              "      <th>PAY_3</th>\n",
              "      <th>PAY_4</th>\n",
              "      <th>PAY_5</th>\n",
              "      <th>PAY_6</th>\n",
              "      <th>BILL_AMT1</th>\n",
              "      <th>BILL_AMT2</th>\n",
              "      <th>BILL_AMT3</th>\n",
              "      <th>BILL_AMT4</th>\n",
              "      <th>BILL_AMT5</th>\n",
              "      <th>BILL_AMT6</th>\n",
              "      <th>PAY_AMT1</th>\n",
              "      <th>PAY_AMT2</th>\n",
              "      <th>PAY_AMT3</th>\n",
              "      <th>PAY_AMT4</th>\n",
              "      <th>PAY_AMT5</th>\n",
              "      <th>PAY_AMT6</th>\n",
              "      <th>default.payment.next.month</th>\n",
              "    </tr>\n",
              "  </thead>\n",
              "  <tbody>\n",
              "    <tr>\n",
              "      <th>14465</th>\n",
              "      <td>14466</td>\n",
              "      <td>20000.0</td>\n",
              "      <td>1</td>\n",
              "      <td>2</td>\n",
              "      <td>2</td>\n",
              "      <td>38</td>\n",
              "      <td>2</td>\n",
              "      <td>-1</td>\n",
              "      <td>-1</td>\n",
              "      <td>-1</td>\n",
              "      <td>-1</td>\n",
              "      <td>-1</td>\n",
              "      <td>1442.0</td>\n",
              "      <td>1261.0</td>\n",
              "      <td>390.0</td>\n",
              "      <td>390.0</td>\n",
              "      <td>390.0</td>\n",
              "      <td>930.0</td>\n",
              "      <td>1261.0</td>\n",
              "      <td>390.0</td>\n",
              "      <td>390.0</td>\n",
              "      <td>390.0</td>\n",
              "      <td>930.0</td>\n",
              "      <td>0.0</td>\n",
              "      <td>0</td>\n",
              "    </tr>\n",
              "    <tr>\n",
              "      <th>26002</th>\n",
              "      <td>26003</td>\n",
              "      <td>280000.0</td>\n",
              "      <td>2</td>\n",
              "      <td>2</td>\n",
              "      <td>2</td>\n",
              "      <td>46</td>\n",
              "      <td>0</td>\n",
              "      <td>0</td>\n",
              "      <td>2</td>\n",
              "      <td>2</td>\n",
              "      <td>0</td>\n",
              "      <td>0</td>\n",
              "      <td>29523.0</td>\n",
              "      <td>154398.0</td>\n",
              "      <td>151984.0</td>\n",
              "      <td>47851.0</td>\n",
              "      <td>49374.0</td>\n",
              "      <td>50198.0</td>\n",
              "      <td>126000.0</td>\n",
              "      <td>3000.0</td>\n",
              "      <td>0.0</td>\n",
              "      <td>3000.0</td>\n",
              "      <td>2000.0</td>\n",
              "      <td>2000.0</td>\n",
              "      <td>0</td>\n",
              "    </tr>\n",
              "    <tr>\n",
              "      <th>28149</th>\n",
              "      <td>28150</td>\n",
              "      <td>50000.0</td>\n",
              "      <td>2</td>\n",
              "      <td>3</td>\n",
              "      <td>1</td>\n",
              "      <td>49</td>\n",
              "      <td>2</td>\n",
              "      <td>2</td>\n",
              "      <td>2</td>\n",
              "      <td>0</td>\n",
              "      <td>0</td>\n",
              "      <td>0</td>\n",
              "      <td>47934.0</td>\n",
              "      <td>48950.0</td>\n",
              "      <td>47891.0</td>\n",
              "      <td>98284.0</td>\n",
              "      <td>19950.0</td>\n",
              "      <td>20007.0</td>\n",
              "      <td>2100.0</td>\n",
              "      <td>0.0</td>\n",
              "      <td>5400.0</td>\n",
              "      <td>1000.0</td>\n",
              "      <td>900.0</td>\n",
              "      <td>1000.0</td>\n",
              "      <td>0</td>\n",
              "    </tr>\n",
              "    <tr>\n",
              "      <th>24798</th>\n",
              "      <td>24799</td>\n",
              "      <td>140000.0</td>\n",
              "      <td>1</td>\n",
              "      <td>2</td>\n",
              "      <td>1</td>\n",
              "      <td>35</td>\n",
              "      <td>1</td>\n",
              "      <td>2</td>\n",
              "      <td>2</td>\n",
              "      <td>0</td>\n",
              "      <td>0</td>\n",
              "      <td>0</td>\n",
              "      <td>147946.0</td>\n",
              "      <td>150934.0</td>\n",
              "      <td>136222.0</td>\n",
              "      <td>124871.0</td>\n",
              "      <td>118141.0</td>\n",
              "      <td>111716.0</td>\n",
              "      <td>7000.0</td>\n",
              "      <td>10.0</td>\n",
              "      <td>6015.0</td>\n",
              "      <td>4000.0</td>\n",
              "      <td>4000.0</td>\n",
              "      <td>5000.0</td>\n",
              "      <td>0</td>\n",
              "    </tr>\n",
              "    <tr>\n",
              "      <th>7104</th>\n",
              "      <td>7105</td>\n",
              "      <td>390000.0</td>\n",
              "      <td>2</td>\n",
              "      <td>1</td>\n",
              "      <td>2</td>\n",
              "      <td>37</td>\n",
              "      <td>-1</td>\n",
              "      <td>-1</td>\n",
              "      <td>-1</td>\n",
              "      <td>-1</td>\n",
              "      <td>-1</td>\n",
              "      <td>-1</td>\n",
              "      <td>20666.0</td>\n",
              "      <td>20666.0</td>\n",
              "      <td>10000.0</td>\n",
              "      <td>20666.0</td>\n",
              "      <td>10000.0</td>\n",
              "      <td>10000.0</td>\n",
              "      <td>20666.0</td>\n",
              "      <td>10000.0</td>\n",
              "      <td>20666.0</td>\n",
              "      <td>10000.0</td>\n",
              "      <td>10000.0</td>\n",
              "      <td>10500.0</td>\n",
              "      <td>0</td>\n",
              "    </tr>\n",
              "  </tbody>\n",
              "</table>\n",
              "</div>"
            ],
            "text/plain": [
              "          ID  LIMIT_BAL  SEX  ...  PAY_AMT5  PAY_AMT6  default.payment.next.month\n",
              "14465  14466    20000.0    1  ...     930.0       0.0                           0\n",
              "26002  26003   280000.0    2  ...    2000.0    2000.0                           0\n",
              "28149  28150    50000.0    2  ...     900.0    1000.0                           0\n",
              "24798  24799   140000.0    1  ...    4000.0    5000.0                           0\n",
              "7104    7105   390000.0    2  ...   10000.0   10500.0                           0\n",
              "\n",
              "[5 rows x 25 columns]"
            ]
          },
          "metadata": {
            "tags": []
          },
          "execution_count": 7
        }
      ]
    },
    {
      "cell_type": "markdown",
      "metadata": {
        "id": "E5TeYnGBGFb9"
      },
      "source": [
        "### Data Info & Structure "
      ]
    },
    {
      "cell_type": "code",
      "metadata": {
        "id": "2gcuf_OuFT2N",
        "colab": {
          "base_uri": "https://localhost:8080/",
          "height": 598
        },
        "outputId": "490fd36b-1570-4f17-ea15-b76c64ac9592"
      },
      "source": [
        "# DATA STRUCTURE\n",
        "df.info()\n"
      ],
      "execution_count": null,
      "outputs": [
        {
          "output_type": "stream",
          "text": [
            "<class 'pandas.core.frame.DataFrame'>\n",
            "RangeIndex: 30000 entries, 0 to 29999\n",
            "Data columns (total 25 columns):\n",
            " #   Column                      Non-Null Count  Dtype  \n",
            "---  ------                      --------------  -----  \n",
            " 0   ID                          30000 non-null  int64  \n",
            " 1   LIMIT_BAL                   30000 non-null  float64\n",
            " 2   SEX                         30000 non-null  int64  \n",
            " 3   EDUCATION                   30000 non-null  int64  \n",
            " 4   MARRIAGE                    30000 non-null  int64  \n",
            " 5   AGE                         30000 non-null  int64  \n",
            " 6   PAY_0                       30000 non-null  int64  \n",
            " 7   PAY_2                       30000 non-null  int64  \n",
            " 8   PAY_3                       30000 non-null  int64  \n",
            " 9   PAY_4                       30000 non-null  int64  \n",
            " 10  PAY_5                       30000 non-null  int64  \n",
            " 11  PAY_6                       30000 non-null  int64  \n",
            " 12  BILL_AMT1                   30000 non-null  float64\n",
            " 13  BILL_AMT2                   30000 non-null  float64\n",
            " 14  BILL_AMT3                   30000 non-null  float64\n",
            " 15  BILL_AMT4                   30000 non-null  float64\n",
            " 16  BILL_AMT5                   30000 non-null  float64\n",
            " 17  BILL_AMT6                   30000 non-null  float64\n",
            " 18  PAY_AMT1                    30000 non-null  float64\n",
            " 19  PAY_AMT2                    30000 non-null  float64\n",
            " 20  PAY_AMT3                    30000 non-null  float64\n",
            " 21  PAY_AMT4                    30000 non-null  float64\n",
            " 22  PAY_AMT5                    30000 non-null  float64\n",
            " 23  PAY_AMT6                    30000 non-null  float64\n",
            " 24  default.payment.next.month  30000 non-null  int64  \n",
            "dtypes: float64(13), int64(12)\n",
            "memory usage: 5.7 MB\n"
          ],
          "name": "stdout"
        }
      ]
    },
    {
      "cell_type": "markdown",
      "metadata": {
        "id": "jMF1CnS0Fr6H"
      },
      "source": [
        "<font color=\"red\">Overall the data has no missing values and is all in numeric terms, with 30,000 entries.<br>\n",
        "<br>\n",
        "No missing data, but a few anomalous things:\n",
        "<br>\n",
        "* EDUCATION has category 5 and 6 that are unlabelled, moreover the category 0 is undocumented.\n",
        "* MARRIAGE has a label 0 that is undocumented\n",
        "</font>\n",
        "\n",
        "\n",
        "---\n",
        "\n"
      ]
    },
    {
      "cell_type": "code",
      "metadata": {
        "id": "SsnoBKU8G2YV",
        "colab": {
          "base_uri": "https://localhost:8080/",
          "height": 320
        },
        "outputId": "cae6e0fa-650d-4661-c700-6a2eb4c9179c"
      },
      "source": [
        "# Payment delay description\n",
        "df[['PAY_0', 'PAY_2', 'PAY_3', 'PAY_4', 'PAY_5', 'PAY_6']].describe()"
      ],
      "execution_count": null,
      "outputs": [
        {
          "output_type": "execute_result",
          "data": {
            "text/html": [
              "<div>\n",
              "<style scoped>\n",
              "    .dataframe tbody tr th:only-of-type {\n",
              "        vertical-align: middle;\n",
              "    }\n",
              "\n",
              "    .dataframe tbody tr th {\n",
              "        vertical-align: top;\n",
              "    }\n",
              "\n",
              "    .dataframe thead th {\n",
              "        text-align: right;\n",
              "    }\n",
              "</style>\n",
              "<table border=\"1\" class=\"dataframe\">\n",
              "  <thead>\n",
              "    <tr style=\"text-align: right;\">\n",
              "      <th></th>\n",
              "      <th>PAY_0</th>\n",
              "      <th>PAY_2</th>\n",
              "      <th>PAY_3</th>\n",
              "      <th>PAY_4</th>\n",
              "      <th>PAY_5</th>\n",
              "      <th>PAY_6</th>\n",
              "    </tr>\n",
              "  </thead>\n",
              "  <tbody>\n",
              "    <tr>\n",
              "      <th>count</th>\n",
              "      <td>30000.000000</td>\n",
              "      <td>30000.000000</td>\n",
              "      <td>30000.000000</td>\n",
              "      <td>30000.000000</td>\n",
              "      <td>30000.000000</td>\n",
              "      <td>30000.000000</td>\n",
              "    </tr>\n",
              "    <tr>\n",
              "      <th>mean</th>\n",
              "      <td>-0.016700</td>\n",
              "      <td>-0.133767</td>\n",
              "      <td>-0.166200</td>\n",
              "      <td>-0.220667</td>\n",
              "      <td>-0.266200</td>\n",
              "      <td>-0.291100</td>\n",
              "    </tr>\n",
              "    <tr>\n",
              "      <th>std</th>\n",
              "      <td>1.123802</td>\n",
              "      <td>1.197186</td>\n",
              "      <td>1.196868</td>\n",
              "      <td>1.169139</td>\n",
              "      <td>1.133187</td>\n",
              "      <td>1.149988</td>\n",
              "    </tr>\n",
              "    <tr>\n",
              "      <th>min</th>\n",
              "      <td>-2.000000</td>\n",
              "      <td>-2.000000</td>\n",
              "      <td>-2.000000</td>\n",
              "      <td>-2.000000</td>\n",
              "      <td>-2.000000</td>\n",
              "      <td>-2.000000</td>\n",
              "    </tr>\n",
              "    <tr>\n",
              "      <th>25%</th>\n",
              "      <td>-1.000000</td>\n",
              "      <td>-1.000000</td>\n",
              "      <td>-1.000000</td>\n",
              "      <td>-1.000000</td>\n",
              "      <td>-1.000000</td>\n",
              "      <td>-1.000000</td>\n",
              "    </tr>\n",
              "    <tr>\n",
              "      <th>50%</th>\n",
              "      <td>0.000000</td>\n",
              "      <td>0.000000</td>\n",
              "      <td>0.000000</td>\n",
              "      <td>0.000000</td>\n",
              "      <td>0.000000</td>\n",
              "      <td>0.000000</td>\n",
              "    </tr>\n",
              "    <tr>\n",
              "      <th>75%</th>\n",
              "      <td>0.000000</td>\n",
              "      <td>0.000000</td>\n",
              "      <td>0.000000</td>\n",
              "      <td>0.000000</td>\n",
              "      <td>0.000000</td>\n",
              "      <td>0.000000</td>\n",
              "    </tr>\n",
              "    <tr>\n",
              "      <th>max</th>\n",
              "      <td>8.000000</td>\n",
              "      <td>8.000000</td>\n",
              "      <td>8.000000</td>\n",
              "      <td>8.000000</td>\n",
              "      <td>8.000000</td>\n",
              "      <td>8.000000</td>\n",
              "    </tr>\n",
              "  </tbody>\n",
              "</table>\n",
              "</div>"
            ],
            "text/plain": [
              "              PAY_0         PAY_2  ...         PAY_5         PAY_6\n",
              "count  30000.000000  30000.000000  ...  30000.000000  30000.000000\n",
              "mean      -0.016700     -0.133767  ...     -0.266200     -0.291100\n",
              "std        1.123802      1.197186  ...      1.133187      1.149988\n",
              "min       -2.000000     -2.000000  ...     -2.000000     -2.000000\n",
              "25%       -1.000000     -1.000000  ...     -1.000000     -1.000000\n",
              "50%        0.000000      0.000000  ...      0.000000      0.000000\n",
              "75%        0.000000      0.000000  ...      0.000000      0.000000\n",
              "max        8.000000      8.000000  ...      8.000000      8.000000\n",
              "\n",
              "[8 rows x 6 columns]"
            ]
          },
          "metadata": {
            "tags": []
          },
          "execution_count": 9
        }
      ]
    },
    {
      "cell_type": "markdown",
      "metadata": {
        "id": "itRYARjoHBok"
      },
      "source": [
        "<font color=\"red\">They all present an undocumented label -2. If 1,2,3, etc are the months of delay, 0 should be labeled 'pay duly' and every negative value should be seen as a 0. But we will get to that late.\n",
        "</font>\n",
        "\n",
        "---\n",
        "\n"
      ]
    },
    {
      "cell_type": "code",
      "metadata": {
        "id": "_QQj2ugxHeHD",
        "colab": {
          "base_uri": "https://localhost:8080/",
          "height": 320
        },
        "outputId": "d046a6a5-aed6-44d7-b8b0-27af73bf60ab"
      },
      "source": [
        "# Bill Statement description\n",
        "df[['BILL_AMT1', 'BILL_AMT2', 'BILL_AMT3', 'BILL_AMT4', 'BILL_AMT5', 'BILL_AMT6']].describe()"
      ],
      "execution_count": null,
      "outputs": [
        {
          "output_type": "execute_result",
          "data": {
            "text/html": [
              "<div>\n",
              "<style scoped>\n",
              "    .dataframe tbody tr th:only-of-type {\n",
              "        vertical-align: middle;\n",
              "    }\n",
              "\n",
              "    .dataframe tbody tr th {\n",
              "        vertical-align: top;\n",
              "    }\n",
              "\n",
              "    .dataframe thead th {\n",
              "        text-align: right;\n",
              "    }\n",
              "</style>\n",
              "<table border=\"1\" class=\"dataframe\">\n",
              "  <thead>\n",
              "    <tr style=\"text-align: right;\">\n",
              "      <th></th>\n",
              "      <th>BILL_AMT1</th>\n",
              "      <th>BILL_AMT2</th>\n",
              "      <th>BILL_AMT3</th>\n",
              "      <th>BILL_AMT4</th>\n",
              "      <th>BILL_AMT5</th>\n",
              "      <th>BILL_AMT6</th>\n",
              "    </tr>\n",
              "  </thead>\n",
              "  <tbody>\n",
              "    <tr>\n",
              "      <th>count</th>\n",
              "      <td>30000.000000</td>\n",
              "      <td>30000.000000</td>\n",
              "      <td>3.000000e+04</td>\n",
              "      <td>30000.000000</td>\n",
              "      <td>30000.000000</td>\n",
              "      <td>30000.000000</td>\n",
              "    </tr>\n",
              "    <tr>\n",
              "      <th>mean</th>\n",
              "      <td>51223.330900</td>\n",
              "      <td>49179.075167</td>\n",
              "      <td>4.701315e+04</td>\n",
              "      <td>43262.948967</td>\n",
              "      <td>40311.400967</td>\n",
              "      <td>38871.760400</td>\n",
              "    </tr>\n",
              "    <tr>\n",
              "      <th>std</th>\n",
              "      <td>73635.860576</td>\n",
              "      <td>71173.768783</td>\n",
              "      <td>6.934939e+04</td>\n",
              "      <td>64332.856134</td>\n",
              "      <td>60797.155770</td>\n",
              "      <td>59554.107537</td>\n",
              "    </tr>\n",
              "    <tr>\n",
              "      <th>min</th>\n",
              "      <td>-165580.000000</td>\n",
              "      <td>-69777.000000</td>\n",
              "      <td>-1.572640e+05</td>\n",
              "      <td>-170000.000000</td>\n",
              "      <td>-81334.000000</td>\n",
              "      <td>-339603.000000</td>\n",
              "    </tr>\n",
              "    <tr>\n",
              "      <th>25%</th>\n",
              "      <td>3558.750000</td>\n",
              "      <td>2984.750000</td>\n",
              "      <td>2.666250e+03</td>\n",
              "      <td>2326.750000</td>\n",
              "      <td>1763.000000</td>\n",
              "      <td>1256.000000</td>\n",
              "    </tr>\n",
              "    <tr>\n",
              "      <th>50%</th>\n",
              "      <td>22381.500000</td>\n",
              "      <td>21200.000000</td>\n",
              "      <td>2.008850e+04</td>\n",
              "      <td>19052.000000</td>\n",
              "      <td>18104.500000</td>\n",
              "      <td>17071.000000</td>\n",
              "    </tr>\n",
              "    <tr>\n",
              "      <th>75%</th>\n",
              "      <td>67091.000000</td>\n",
              "      <td>64006.250000</td>\n",
              "      <td>6.016475e+04</td>\n",
              "      <td>54506.000000</td>\n",
              "      <td>50190.500000</td>\n",
              "      <td>49198.250000</td>\n",
              "    </tr>\n",
              "    <tr>\n",
              "      <th>max</th>\n",
              "      <td>964511.000000</td>\n",
              "      <td>983931.000000</td>\n",
              "      <td>1.664089e+06</td>\n",
              "      <td>891586.000000</td>\n",
              "      <td>927171.000000</td>\n",
              "      <td>961664.000000</td>\n",
              "    </tr>\n",
              "  </tbody>\n",
              "</table>\n",
              "</div>"
            ],
            "text/plain": [
              "           BILL_AMT1      BILL_AMT2  ...      BILL_AMT5      BILL_AMT6\n",
              "count   30000.000000   30000.000000  ...   30000.000000   30000.000000\n",
              "mean    51223.330900   49179.075167  ...   40311.400967   38871.760400\n",
              "std     73635.860576   71173.768783  ...   60797.155770   59554.107537\n",
              "min   -165580.000000  -69777.000000  ...  -81334.000000 -339603.000000\n",
              "25%      3558.750000    2984.750000  ...    1763.000000    1256.000000\n",
              "50%     22381.500000   21200.000000  ...   18104.500000   17071.000000\n",
              "75%     67091.000000   64006.250000  ...   50190.500000   49198.250000\n",
              "max    964511.000000  983931.000000  ...  927171.000000  961664.000000\n",
              "\n",
              "[8 rows x 6 columns]"
            ]
          },
          "metadata": {
            "tags": []
          },
          "execution_count": 10
        }
      ]
    },
    {
      "cell_type": "markdown",
      "metadata": {
        "id": "K1B3aD6zHgDj"
      },
      "source": [
        "<font color=\"red\"> Negative values can be interpreted as credit?\n",
        "\n",
        "---"
      ]
    },
    {
      "cell_type": "code",
      "metadata": {
        "id": "3Mi0GSldHsVM",
        "colab": {
          "base_uri": "https://localhost:8080/",
          "height": 320
        },
        "outputId": "d3a9ed58-0397-4508-c17d-96a39e1cac07"
      },
      "source": [
        "#Previous Payment Description\n",
        "df[['PAY_AMT1', 'PAY_AMT2', 'PAY_AMT3', 'PAY_AMT4', 'PAY_AMT5', 'PAY_AMT6']].describe()"
      ],
      "execution_count": null,
      "outputs": [
        {
          "output_type": "execute_result",
          "data": {
            "text/html": [
              "<div>\n",
              "<style scoped>\n",
              "    .dataframe tbody tr th:only-of-type {\n",
              "        vertical-align: middle;\n",
              "    }\n",
              "\n",
              "    .dataframe tbody tr th {\n",
              "        vertical-align: top;\n",
              "    }\n",
              "\n",
              "    .dataframe thead th {\n",
              "        text-align: right;\n",
              "    }\n",
              "</style>\n",
              "<table border=\"1\" class=\"dataframe\">\n",
              "  <thead>\n",
              "    <tr style=\"text-align: right;\">\n",
              "      <th></th>\n",
              "      <th>PAY_AMT1</th>\n",
              "      <th>PAY_AMT2</th>\n",
              "      <th>PAY_AMT3</th>\n",
              "      <th>PAY_AMT4</th>\n",
              "      <th>PAY_AMT5</th>\n",
              "      <th>PAY_AMT6</th>\n",
              "    </tr>\n",
              "  </thead>\n",
              "  <tbody>\n",
              "    <tr>\n",
              "      <th>count</th>\n",
              "      <td>30000.000000</td>\n",
              "      <td>3.000000e+04</td>\n",
              "      <td>30000.00000</td>\n",
              "      <td>30000.000000</td>\n",
              "      <td>30000.000000</td>\n",
              "      <td>30000.000000</td>\n",
              "    </tr>\n",
              "    <tr>\n",
              "      <th>mean</th>\n",
              "      <td>5663.580500</td>\n",
              "      <td>5.921163e+03</td>\n",
              "      <td>5225.68150</td>\n",
              "      <td>4826.076867</td>\n",
              "      <td>4799.387633</td>\n",
              "      <td>5215.502567</td>\n",
              "    </tr>\n",
              "    <tr>\n",
              "      <th>std</th>\n",
              "      <td>16563.280354</td>\n",
              "      <td>2.304087e+04</td>\n",
              "      <td>17606.96147</td>\n",
              "      <td>15666.159744</td>\n",
              "      <td>15278.305679</td>\n",
              "      <td>17777.465775</td>\n",
              "    </tr>\n",
              "    <tr>\n",
              "      <th>min</th>\n",
              "      <td>0.000000</td>\n",
              "      <td>0.000000e+00</td>\n",
              "      <td>0.00000</td>\n",
              "      <td>0.000000</td>\n",
              "      <td>0.000000</td>\n",
              "      <td>0.000000</td>\n",
              "    </tr>\n",
              "    <tr>\n",
              "      <th>25%</th>\n",
              "      <td>1000.000000</td>\n",
              "      <td>8.330000e+02</td>\n",
              "      <td>390.00000</td>\n",
              "      <td>296.000000</td>\n",
              "      <td>252.500000</td>\n",
              "      <td>117.750000</td>\n",
              "    </tr>\n",
              "    <tr>\n",
              "      <th>50%</th>\n",
              "      <td>2100.000000</td>\n",
              "      <td>2.009000e+03</td>\n",
              "      <td>1800.00000</td>\n",
              "      <td>1500.000000</td>\n",
              "      <td>1500.000000</td>\n",
              "      <td>1500.000000</td>\n",
              "    </tr>\n",
              "    <tr>\n",
              "      <th>75%</th>\n",
              "      <td>5006.000000</td>\n",
              "      <td>5.000000e+03</td>\n",
              "      <td>4505.00000</td>\n",
              "      <td>4013.250000</td>\n",
              "      <td>4031.500000</td>\n",
              "      <td>4000.000000</td>\n",
              "    </tr>\n",
              "    <tr>\n",
              "      <th>max</th>\n",
              "      <td>873552.000000</td>\n",
              "      <td>1.684259e+06</td>\n",
              "      <td>896040.00000</td>\n",
              "      <td>621000.000000</td>\n",
              "      <td>426529.000000</td>\n",
              "      <td>528666.000000</td>\n",
              "    </tr>\n",
              "  </tbody>\n",
              "</table>\n",
              "</div>"
            ],
            "text/plain": [
              "            PAY_AMT1      PAY_AMT2  ...       PAY_AMT5       PAY_AMT6\n",
              "count   30000.000000  3.000000e+04  ...   30000.000000   30000.000000\n",
              "mean     5663.580500  5.921163e+03  ...    4799.387633    5215.502567\n",
              "std     16563.280354  2.304087e+04  ...   15278.305679   17777.465775\n",
              "min         0.000000  0.000000e+00  ...       0.000000       0.000000\n",
              "25%      1000.000000  8.330000e+02  ...     252.500000     117.750000\n",
              "50%      2100.000000  2.009000e+03  ...    1500.000000    1500.000000\n",
              "75%      5006.000000  5.000000e+03  ...    4031.500000    4000.000000\n",
              "max    873552.000000  1.684259e+06  ...  426529.000000  528666.000000\n",
              "\n",
              "[8 rows x 6 columns]"
            ]
          },
          "metadata": {
            "tags": []
          },
          "execution_count": 11
        }
      ]
    },
    {
      "cell_type": "code",
      "metadata": {
        "id": "EYo2avMWIBbe",
        "colab": {
          "base_uri": "https://localhost:8080/",
          "height": 181
        },
        "outputId": "96066182-d527-46e7-f5f0-d95aa9dacc18"
      },
      "source": [
        "df.LIMIT_BAL.describe()"
      ],
      "execution_count": null,
      "outputs": [
        {
          "output_type": "execute_result",
          "data": {
            "text/plain": [
              "count      30000.000000\n",
              "mean      167484.322667\n",
              "std       129747.661567\n",
              "min        10000.000000\n",
              "25%        50000.000000\n",
              "50%       140000.000000\n",
              "75%       240000.000000\n",
              "max      1000000.000000\n",
              "Name: LIMIT_BAL, dtype: float64"
            ]
          },
          "metadata": {
            "tags": []
          },
          "execution_count": 12
        }
      ]
    },
    {
      "cell_type": "code",
      "metadata": {
        "id": "OZjJq4ROJQAL",
        "colab": {
          "base_uri": "https://localhost:8080/",
          "height": 300
        },
        "outputId": "ee33e753-1ec8-42fb-8b63-145738817a27"
      },
      "source": [
        "# Analysis of Persons Socio Economic Indicators\n",
        "df[['SEX','EDUCATION','MARRIAGE','AGE']].describe()"
      ],
      "execution_count": null,
      "outputs": [
        {
          "output_type": "execute_result",
          "data": {
            "text/html": [
              "<div>\n",
              "<style scoped>\n",
              "    .dataframe tbody tr th:only-of-type {\n",
              "        vertical-align: middle;\n",
              "    }\n",
              "\n",
              "    .dataframe tbody tr th {\n",
              "        vertical-align: top;\n",
              "    }\n",
              "\n",
              "    .dataframe thead th {\n",
              "        text-align: right;\n",
              "    }\n",
              "</style>\n",
              "<table border=\"1\" class=\"dataframe\">\n",
              "  <thead>\n",
              "    <tr style=\"text-align: right;\">\n",
              "      <th></th>\n",
              "      <th>SEX</th>\n",
              "      <th>EDUCATION</th>\n",
              "      <th>MARRIAGE</th>\n",
              "      <th>AGE</th>\n",
              "    </tr>\n",
              "  </thead>\n",
              "  <tbody>\n",
              "    <tr>\n",
              "      <th>count</th>\n",
              "      <td>30000.000000</td>\n",
              "      <td>30000.000000</td>\n",
              "      <td>30000.000000</td>\n",
              "      <td>30000.000000</td>\n",
              "    </tr>\n",
              "    <tr>\n",
              "      <th>mean</th>\n",
              "      <td>1.603733</td>\n",
              "      <td>1.853133</td>\n",
              "      <td>1.551867</td>\n",
              "      <td>35.485500</td>\n",
              "    </tr>\n",
              "    <tr>\n",
              "      <th>std</th>\n",
              "      <td>0.489129</td>\n",
              "      <td>0.790349</td>\n",
              "      <td>0.521970</td>\n",
              "      <td>9.217904</td>\n",
              "    </tr>\n",
              "    <tr>\n",
              "      <th>min</th>\n",
              "      <td>1.000000</td>\n",
              "      <td>0.000000</td>\n",
              "      <td>0.000000</td>\n",
              "      <td>21.000000</td>\n",
              "    </tr>\n",
              "    <tr>\n",
              "      <th>25%</th>\n",
              "      <td>1.000000</td>\n",
              "      <td>1.000000</td>\n",
              "      <td>1.000000</td>\n",
              "      <td>28.000000</td>\n",
              "    </tr>\n",
              "    <tr>\n",
              "      <th>50%</th>\n",
              "      <td>2.000000</td>\n",
              "      <td>2.000000</td>\n",
              "      <td>2.000000</td>\n",
              "      <td>34.000000</td>\n",
              "    </tr>\n",
              "    <tr>\n",
              "      <th>75%</th>\n",
              "      <td>2.000000</td>\n",
              "      <td>2.000000</td>\n",
              "      <td>2.000000</td>\n",
              "      <td>41.000000</td>\n",
              "    </tr>\n",
              "    <tr>\n",
              "      <th>max</th>\n",
              "      <td>2.000000</td>\n",
              "      <td>6.000000</td>\n",
              "      <td>3.000000</td>\n",
              "      <td>79.000000</td>\n",
              "    </tr>\n",
              "  </tbody>\n",
              "</table>\n",
              "</div>"
            ],
            "text/plain": [
              "                SEX     EDUCATION      MARRIAGE           AGE\n",
              "count  30000.000000  30000.000000  30000.000000  30000.000000\n",
              "mean       1.603733      1.853133      1.551867     35.485500\n",
              "std        0.489129      0.790349      0.521970      9.217904\n",
              "min        1.000000      0.000000      0.000000     21.000000\n",
              "25%        1.000000      1.000000      1.000000     28.000000\n",
              "50%        2.000000      2.000000      2.000000     34.000000\n",
              "75%        2.000000      2.000000      2.000000     41.000000\n",
              "max        2.000000      6.000000      3.000000     79.000000"
            ]
          },
          "metadata": {
            "tags": []
          },
          "execution_count": 13
        }
      ]
    },
    {
      "cell_type": "markdown",
      "metadata": {
        "id": "LHsRhsYyNOf7"
      },
      "source": [
        "<font color=\"red\">We notice the following things about our clients:<br>\n",
        "<br>\n",
        "* SEX (encoded as 1 = male & 2 = female) has a mean of 1.6 and median of 2 which means we have more female customers than male customers \n",
        "* MARRIAGE(encoded as 1=married, 2=single, 3=others) we see that the mean is around 1 and median as well as 75th quartile being 2 means a considerable amount of clients are married or single\n",
        "* EDUCATION (encoded as 1=graduate, 2=uni, 3=high school, 4=others, 5=unknown,6=unknown) shows that most  clients are graduates\n",
        "</font>\n",
        "\n"
      ]
    },
    {
      "cell_type": "markdown",
      "metadata": {
        "id": "bozIm7J_WWiW"
      },
      "source": [
        "##Exploratory Analysis\n",
        "\n",
        "In-depth visualised analysis\n",
        "\n",
        "----"
      ]
    },
    {
      "cell_type": "markdown",
      "metadata": {
        "id": "W3j1LTL4XowT"
      },
      "source": [
        "###Imbalance in Dataset"
      ]
    },
    {
      "cell_type": "code",
      "metadata": {
        "id": "uwQU7auHwVQw",
        "colab": {
          "base_uri": "https://localhost:8080/",
          "height": 226
        },
        "outputId": "ff7f63fc-625c-4197-bce4-e0841bb8cbd5"
      },
      "source": [
        "df=df.rename(columns={'default.payment.next.month':'def_pay','PAY_0':'PAY_1'})\n",
        "df.head()"
      ],
      "execution_count": null,
      "outputs": [
        {
          "output_type": "execute_result",
          "data": {
            "text/html": [
              "<div>\n",
              "<style scoped>\n",
              "    .dataframe tbody tr th:only-of-type {\n",
              "        vertical-align: middle;\n",
              "    }\n",
              "\n",
              "    .dataframe tbody tr th {\n",
              "        vertical-align: top;\n",
              "    }\n",
              "\n",
              "    .dataframe thead th {\n",
              "        text-align: right;\n",
              "    }\n",
              "</style>\n",
              "<table border=\"1\" class=\"dataframe\">\n",
              "  <thead>\n",
              "    <tr style=\"text-align: right;\">\n",
              "      <th></th>\n",
              "      <th>ID</th>\n",
              "      <th>LIMIT_BAL</th>\n",
              "      <th>SEX</th>\n",
              "      <th>EDUCATION</th>\n",
              "      <th>MARRIAGE</th>\n",
              "      <th>AGE</th>\n",
              "      <th>PAY_1</th>\n",
              "      <th>PAY_2</th>\n",
              "      <th>PAY_3</th>\n",
              "      <th>PAY_4</th>\n",
              "      <th>PAY_5</th>\n",
              "      <th>PAY_6</th>\n",
              "      <th>BILL_AMT1</th>\n",
              "      <th>BILL_AMT2</th>\n",
              "      <th>BILL_AMT3</th>\n",
              "      <th>BILL_AMT4</th>\n",
              "      <th>BILL_AMT5</th>\n",
              "      <th>BILL_AMT6</th>\n",
              "      <th>PAY_AMT1</th>\n",
              "      <th>PAY_AMT2</th>\n",
              "      <th>PAY_AMT3</th>\n",
              "      <th>PAY_AMT4</th>\n",
              "      <th>PAY_AMT5</th>\n",
              "      <th>PAY_AMT6</th>\n",
              "      <th>def_pay</th>\n",
              "    </tr>\n",
              "  </thead>\n",
              "  <tbody>\n",
              "    <tr>\n",
              "      <th>0</th>\n",
              "      <td>1</td>\n",
              "      <td>20000.0</td>\n",
              "      <td>2</td>\n",
              "      <td>2</td>\n",
              "      <td>1</td>\n",
              "      <td>24</td>\n",
              "      <td>2</td>\n",
              "      <td>2</td>\n",
              "      <td>-1</td>\n",
              "      <td>-1</td>\n",
              "      <td>-2</td>\n",
              "      <td>-2</td>\n",
              "      <td>3913.0</td>\n",
              "      <td>3102.0</td>\n",
              "      <td>689.0</td>\n",
              "      <td>0.0</td>\n",
              "      <td>0.0</td>\n",
              "      <td>0.0</td>\n",
              "      <td>0.0</td>\n",
              "      <td>689.0</td>\n",
              "      <td>0.0</td>\n",
              "      <td>0.0</td>\n",
              "      <td>0.0</td>\n",
              "      <td>0.0</td>\n",
              "      <td>1</td>\n",
              "    </tr>\n",
              "    <tr>\n",
              "      <th>1</th>\n",
              "      <td>2</td>\n",
              "      <td>120000.0</td>\n",
              "      <td>2</td>\n",
              "      <td>2</td>\n",
              "      <td>2</td>\n",
              "      <td>26</td>\n",
              "      <td>-1</td>\n",
              "      <td>2</td>\n",
              "      <td>0</td>\n",
              "      <td>0</td>\n",
              "      <td>0</td>\n",
              "      <td>2</td>\n",
              "      <td>2682.0</td>\n",
              "      <td>1725.0</td>\n",
              "      <td>2682.0</td>\n",
              "      <td>3272.0</td>\n",
              "      <td>3455.0</td>\n",
              "      <td>3261.0</td>\n",
              "      <td>0.0</td>\n",
              "      <td>1000.0</td>\n",
              "      <td>1000.0</td>\n",
              "      <td>1000.0</td>\n",
              "      <td>0.0</td>\n",
              "      <td>2000.0</td>\n",
              "      <td>1</td>\n",
              "    </tr>\n",
              "    <tr>\n",
              "      <th>2</th>\n",
              "      <td>3</td>\n",
              "      <td>90000.0</td>\n",
              "      <td>2</td>\n",
              "      <td>2</td>\n",
              "      <td>2</td>\n",
              "      <td>34</td>\n",
              "      <td>0</td>\n",
              "      <td>0</td>\n",
              "      <td>0</td>\n",
              "      <td>0</td>\n",
              "      <td>0</td>\n",
              "      <td>0</td>\n",
              "      <td>29239.0</td>\n",
              "      <td>14027.0</td>\n",
              "      <td>13559.0</td>\n",
              "      <td>14331.0</td>\n",
              "      <td>14948.0</td>\n",
              "      <td>15549.0</td>\n",
              "      <td>1518.0</td>\n",
              "      <td>1500.0</td>\n",
              "      <td>1000.0</td>\n",
              "      <td>1000.0</td>\n",
              "      <td>1000.0</td>\n",
              "      <td>5000.0</td>\n",
              "      <td>0</td>\n",
              "    </tr>\n",
              "    <tr>\n",
              "      <th>3</th>\n",
              "      <td>4</td>\n",
              "      <td>50000.0</td>\n",
              "      <td>2</td>\n",
              "      <td>2</td>\n",
              "      <td>1</td>\n",
              "      <td>37</td>\n",
              "      <td>0</td>\n",
              "      <td>0</td>\n",
              "      <td>0</td>\n",
              "      <td>0</td>\n",
              "      <td>0</td>\n",
              "      <td>0</td>\n",
              "      <td>46990.0</td>\n",
              "      <td>48233.0</td>\n",
              "      <td>49291.0</td>\n",
              "      <td>28314.0</td>\n",
              "      <td>28959.0</td>\n",
              "      <td>29547.0</td>\n",
              "      <td>2000.0</td>\n",
              "      <td>2019.0</td>\n",
              "      <td>1200.0</td>\n",
              "      <td>1100.0</td>\n",
              "      <td>1069.0</td>\n",
              "      <td>1000.0</td>\n",
              "      <td>0</td>\n",
              "    </tr>\n",
              "    <tr>\n",
              "      <th>4</th>\n",
              "      <td>5</td>\n",
              "      <td>50000.0</td>\n",
              "      <td>1</td>\n",
              "      <td>2</td>\n",
              "      <td>1</td>\n",
              "      <td>57</td>\n",
              "      <td>-1</td>\n",
              "      <td>0</td>\n",
              "      <td>-1</td>\n",
              "      <td>0</td>\n",
              "      <td>0</td>\n",
              "      <td>0</td>\n",
              "      <td>8617.0</td>\n",
              "      <td>5670.0</td>\n",
              "      <td>35835.0</td>\n",
              "      <td>20940.0</td>\n",
              "      <td>19146.0</td>\n",
              "      <td>19131.0</td>\n",
              "      <td>2000.0</td>\n",
              "      <td>36681.0</td>\n",
              "      <td>10000.0</td>\n",
              "      <td>9000.0</td>\n",
              "      <td>689.0</td>\n",
              "      <td>679.0</td>\n",
              "      <td>0</td>\n",
              "    </tr>\n",
              "  </tbody>\n",
              "</table>\n",
              "</div>"
            ],
            "text/plain": [
              "   ID  LIMIT_BAL  SEX  EDUCATION  ...  PAY_AMT4  PAY_AMT5  PAY_AMT6  def_pay\n",
              "0   1    20000.0    2          2  ...       0.0       0.0       0.0        1\n",
              "1   2   120000.0    2          2  ...    1000.0       0.0    2000.0        1\n",
              "2   3    90000.0    2          2  ...    1000.0    1000.0    5000.0        0\n",
              "3   4    50000.0    2          2  ...    1100.0    1069.0    1000.0        0\n",
              "4   5    50000.0    1          2  ...    9000.0     689.0     679.0        0\n",
              "\n",
              "[5 rows x 25 columns]"
            ]
          },
          "metadata": {
            "tags": []
          },
          "execution_count": 14
        }
      ]
    },
    {
      "cell_type": "code",
      "metadata": {
        "id": "BYZpIFGzxplF",
        "colab": {
          "base_uri": "https://localhost:8080/",
          "height": 419
        },
        "outputId": "9444082e-85cc-439d-aa06-94010ef66971"
      },
      "source": [
        "temp = df['def_pay'].copy()\n",
        "temp=temp.value_counts()\n",
        "\n",
        "dt= pd.DataFrame({'default.payment.next.month': temp.index,'values': temp.values})\n",
        "plt.figure(figsize = (6,6))\n",
        "plt.title('Default Credit Card Clients \\n (Default = 1, Not Default = 0)')\n",
        "sns.set_color_codes(\"pastel\")\n",
        "g=sns.barplot(x = 'default.payment.next.month', y=\"values\", data=dt).set(ylabel='No. of Customers')\n",
        "locs, labels = plt.xticks()"
      ],
      "execution_count": null,
      "outputs": [
        {
          "output_type": "display_data",
          "data": {
            "image/png": "[encoded data removed]",
            "text/plain": [
              "<Figure size 432x432 with 1 Axes>"
            ]
          },
          "metadata": {
            "tags": [],
            "needs_background": "light"
          }
        }
      ]
    },
    {
      "cell_type": "code",
      "metadata": {
        "id": "xOKVrIVeX1VV",
        "colab": {
          "base_uri": "https://localhost:8080/",
          "height": 53
        },
        "outputId": "51cbebf5-932f-4138-fe1d-3b4337e1d9c4"
      },
      "source": [
        "n1= (temp.values[0]/(temp.values[0]+temp.values[1]))*100\n",
        "n2= (temp.values[1]/(temp.values[0]+temp.values[1]))*100\n",
        "print(f'Percentage of Non-Defaulters:-->{n1}%')\n",
        "print(f'Percentage of Defaulters:--> {n2}%')"
      ],
      "execution_count": null,
      "outputs": [
        {
          "output_type": "stream",
          "text": [
            "Percentage of Non-Defaulters:-->77.88000000000001%\n",
            "Percentage of Defaulters:--> 22.12%\n"
          ],
          "name": "stdout"
        }
      ]
    },
    {
      "cell_type": "markdown",
      "metadata": {
        "id": "5rOrQS7uZ67g"
      },
      "source": [
        "###Amount of Credit Limit"
      ]
    },
    {
      "cell_type": "code",
      "metadata": {
        "id": "53s0Qba2liAc",
        "colab": {
          "base_uri": "https://localhost:8080/",
          "height": 553
        },
        "outputId": "ca085565-6ff4-46fb-c4f2-a0c178ca8a8b"
      },
      "source": [
        "df.LIMIT_BAL.hist(bins = 20,figsize=(6,6))\n",
        "df.LIMIT_BAL.describe()"
      ],
      "execution_count": null,
      "outputs": [
        {
          "output_type": "execute_result",
          "data": {
            "text/plain": [
              "count      30000.000000\n",
              "mean      167484.322667\n",
              "std       129747.661567\n",
              "min        10000.000000\n",
              "25%        50000.000000\n",
              "50%       140000.000000\n",
              "75%       240000.000000\n",
              "max      1000000.000000\n",
              "Name: LIMIT_BAL, dtype: float64"
            ]
          },
          "metadata": {
            "tags": []
          },
          "execution_count": 17
        },
        {
          "output_type": "display_data",
          "data": {
            "image/png": "[encoded data removed]",
            "text/plain": [
              "<Figure size 432x432 with 1 Axes>"
            ]
          },
          "metadata": {
            "tags": [],
            "needs_background": "light"
          }
        }
      ]
    },
    {
      "cell_type": "markdown",
      "metadata": {
        "id": "E8u6oDDOtqTi"
      },
      "source": [
        ""
      ]
    },
    {
      "cell_type": "markdown",
      "metadata": {
        "id": "OjK3sWY0tc1j"
      },
      "source": [
        "###Age Distribution"
      ]
    },
    {
      "cell_type": "code",
      "metadata": {
        "id": "Slj0HIIEtCFj",
        "colab": {
          "base_uri": "https://localhost:8080/",
          "height": 313
        },
        "outputId": "f0451f75-819a-4e54-cfdd-ff2e0ce83794"
      },
      "source": [
        "df.AGE.hist()\n",
        "import pylab as pl\n",
        "pl.title(\"Age distribution\")\n",
        "pl.ylabel(\"Number of Customers\")\n",
        "pl.xlabel(\"Age(in years)\")"
      ],
      "execution_count": null,
      "outputs": [
        {
          "output_type": "execute_result",
          "data": {
            "text/plain": [
              "Text(0.5, 0, 'Age(in years)')"
            ]
          },
          "metadata": {
            "tags": []
          },
          "execution_count": 18
        },
        {
          "output_type": "display_data",
          "data": {
            "image/png": "[encoded data removed]",
            "text/plain": [
              "<Figure size 432x288 with 1 Axes>"
            ]
          },
          "metadata": {
            "tags": [],
            "needs_background": "light"
          }
        }
      ]
    },
    {
      "cell_type": "markdown",
      "metadata": {
        "id": "fH5MJwVouVAg"
      },
      "source": [
        "<font color=\"red\"> This graph directly shows that credit was extended to the younger section of the society. The elder , people with  more purchasing power, got less credit cards\n",
        "<br>\n",
        "However, we also need to check what was the credit(LIMIT_BAL) got in comparison with elders "
      ]
    },
    {
      "cell_type": "markdown",
      "metadata": {
        "id": "cWjiiNf4xEw9"
      },
      "source": [
        "###Gender"
      ]
    },
    {
      "cell_type": "code",
      "metadata": {
        "id": "3li6iMpTvUcq",
        "colab": {
          "base_uri": "https://localhost:8080/",
          "height": 404
        },
        "outputId": "87a1d937-c5d6-4b52-eb9f-7e396db94c9e"
      },
      "source": [
        "temp = df['SEX'].copy()\n",
        "temp=temp.value_counts()\n",
        "dt= pd.DataFrame({'Gender':[\"FEMALE\",\"MALE\"],'values': temp.values})\n",
        "plt.figure(figsize = (6,6))\n",
        "plt.title('GENDER')\n",
        "sns.set_color_codes(\"pastel\")\n",
        "g=sns.barplot(x = 'Gender', y=\"values\", data=dt)\n",
        "locs, labels = plt.xticks()"
      ],
      "execution_count": null,
      "outputs": [
        {
          "output_type": "display_data",
          "data": {
            "image/png": "[encoded data removed]",
            "text/plain": [
              "<Figure size 432x432 with 1 Axes>"
            ]
          },
          "metadata": {
            "tags": [],
            "needs_background": "light"
          }
        }
      ]
    },
    {
      "cell_type": "markdown",
      "metadata": {
        "id": "onXOJ_FOw5cP"
      },
      "source": [
        "<font color=\"red\"> More Women than Men"
      ]
    },
    {
      "cell_type": "markdown",
      "metadata": {
        "id": "8_Fe05jBxHme"
      },
      "source": [
        "###Marriage"
      ]
    },
    {
      "cell_type": "code",
      "metadata": {
        "id": "oq0lFtB_xOUx",
        "colab": {
          "base_uri": "https://localhost:8080/",
          "height": 404
        },
        "outputId": "e455d47a-f0f0-436c-f8c5-1fa4f0d8cb03"
      },
      "source": [
        "temp = df['MARRIAGE'].copy()\n",
        "temp=temp.value_counts()\n",
        "temp.head()\n",
        "dt= pd.DataFrame({'Marriage':[\"single\",\"married\",\"others\",\"others\"],'values': temp.values})\n",
        "plt.figure(figsize = (6,6))\n",
        "plt.title('Distribution of Customers based on Marital Status')\n",
        "sns.set_color_codes(\"pastel\")\n",
        "g=sns.barplot(x = 'Marriage', y=\"values\", data=dt).set(ylabel='No. of Customers',xlabel='Marital Status')\n",
        "locs, labels = plt.xticks()"
      ],
      "execution_count": null,
      "outputs": [
        {
          "output_type": "display_data",
          "data": {
            "image/png": "[encoded data removed]",
            "text/plain": [
              "<Figure size 432x432 with 1 Axes>"
            ]
          },
          "metadata": {
            "tags": [],
            "needs_background": "light"
          }
        }
      ]
    },
    {
      "cell_type": "markdown",
      "metadata": {
        "id": "AoNPyDvTyN7T"
      },
      "source": [
        "<font color=\"red\"> On the outset of basic analysis, I feel that much credit was given to single and young people. Although, one can not say if they were the defaulters largely. I will analyse further"
      ]
    },
    {
      "cell_type": "markdown",
      "metadata": {
        "id": "b8jh1RpGy-on"
      },
      "source": [
        "<font size=6 color='green'> At this point I would like to do Data Cleaning which will then be followed by further analysis"
      ]
    },
    {
      "cell_type": "markdown",
      "metadata": {
        "id": "Lv-oI_u-zPga"
      },
      "source": [
        "##Data Cleaning"
      ]
    },
    {
      "cell_type": "markdown",
      "metadata": {
        "id": "f3SEZxFnzZ5x"
      },
      "source": [
        "The 0 in MARRIAGE can be safely categorized as 'Other' (thus 3).\n",
        "\n",
        "The 0 (undocumented), 5 and 6 (label unknown) in EDUCATION can also be put in a 'Other' cathegory (thus 4"
      ]
    },
    {
      "cell_type": "code",
      "metadata": {
        "id": "QxsMheVjzk7K",
        "colab": {
          "base_uri": "https://localhost:8080/",
          "height": 108
        },
        "outputId": "faf5cc8d-9759-4636-ca2b-231859ba74d5"
      },
      "source": [
        "# FIXING EDUCATION\n",
        "fill = (df.EDUCATION == 5) | (df.EDUCATION == 6) | (df.EDUCATION == 0)\n",
        "df.loc[fill, 'EDUCATION'] = 4\n",
        "df.EDUCATION.value_counts()"
      ],
      "execution_count": null,
      "outputs": [
        {
          "output_type": "execute_result",
          "data": {
            "text/plain": [
              "2    14030\n",
              "1    10585\n",
              "3     4917\n",
              "4      468\n",
              "Name: EDUCATION, dtype: int64"
            ]
          },
          "metadata": {
            "tags": []
          },
          "execution_count": 21
        }
      ]
    },
    {
      "cell_type": "code",
      "metadata": {
        "id": "1yOmfScs0fjA",
        "colab": {
          "base_uri": "https://localhost:8080/",
          "height": 90
        },
        "outputId": "2e75662e-284d-4c8f-ac5c-aa37f5aeafb1"
      },
      "source": [
        "#FIXING MARRIAGE\n",
        "df.loc[df.MARRIAGE == 0, 'MARRIAGE'] = 3\n",
        "df.MARRIAGE.value_counts()"
      ],
      "execution_count": null,
      "outputs": [
        {
          "output_type": "execute_result",
          "data": {
            "text/plain": [
              "2    15964\n",
              "1    13659\n",
              "3      377\n",
              "Name: MARRIAGE, dtype: int64"
            ]
          },
          "metadata": {
            "tags": []
          },
          "execution_count": 22
        }
      ]
    },
    {
      "cell_type": "markdown",
      "metadata": {
        "id": "IWJyXCoq0yLv"
      },
      "source": [
        "According to our documentation, the PAY_n variables indicate the number of months of delay and indicates \"pay duly\"with -1. \n",
        "\n",
        "We also have -2 & 0. It seems that the label has to be adjusted to 0 for pay duly.\n",
        "\n"
      ]
    },
    {
      "cell_type": "code",
      "metadata": {
        "id": "GLt47nj-12Gk",
        "colab": {
          "base_uri": "https://localhost:8080/",
          "height": 226
        },
        "outputId": "e42b567e-ba28-47fa-ed15-e8e3bbae7dcc"
      },
      "source": [
        "#Renaming PAY_0 to PAY_1\n",
        "df=df.rename(columns={'PAY_0':'PAY_1'})\n",
        "df.head()"
      ],
      "execution_count": null,
      "outputs": [
        {
          "output_type": "execute_result",
          "data": {
            "text/html": [
              "<div>\n",
              "<style scoped>\n",
              "    .dataframe tbody tr th:only-of-type {\n",
              "        vertical-align: middle;\n",
              "    }\n",
              "\n",
              "    .dataframe tbody tr th {\n",
              "        vertical-align: top;\n",
              "    }\n",
              "\n",
              "    .dataframe thead th {\n",
              "        text-align: right;\n",
              "    }\n",
              "</style>\n",
              "<table border=\"1\" class=\"dataframe\">\n",
              "  <thead>\n",
              "    <tr style=\"text-align: right;\">\n",
              "      <th></th>\n",
              "      <th>ID</th>\n",
              "      <th>LIMIT_BAL</th>\n",
              "      <th>SEX</th>\n",
              "      <th>EDUCATION</th>\n",
              "      <th>MARRIAGE</th>\n",
              "      <th>AGE</th>\n",
              "      <th>PAY_1</th>\n",
              "      <th>PAY_2</th>\n",
              "      <th>PAY_3</th>\n",
              "      <th>PAY_4</th>\n",
              "      <th>PAY_5</th>\n",
              "      <th>PAY_6</th>\n",
              "      <th>BILL_AMT1</th>\n",
              "      <th>BILL_AMT2</th>\n",
              "      <th>BILL_AMT3</th>\n",
              "      <th>BILL_AMT4</th>\n",
              "      <th>BILL_AMT5</th>\n",
              "      <th>BILL_AMT6</th>\n",
              "      <th>PAY_AMT1</th>\n",
              "      <th>PAY_AMT2</th>\n",
              "      <th>PAY_AMT3</th>\n",
              "      <th>PAY_AMT4</th>\n",
              "      <th>PAY_AMT5</th>\n",
              "      <th>PAY_AMT6</th>\n",
              "      <th>def_pay</th>\n",
              "    </tr>\n",
              "  </thead>\n",
              "  <tbody>\n",
              "    <tr>\n",
              "      <th>0</th>\n",
              "      <td>1</td>\n",
              "      <td>20000.0</td>\n",
              "      <td>2</td>\n",
              "      <td>2</td>\n",
              "      <td>1</td>\n",
              "      <td>24</td>\n",
              "      <td>2</td>\n",
              "      <td>2</td>\n",
              "      <td>-1</td>\n",
              "      <td>-1</td>\n",
              "      <td>-2</td>\n",
              "      <td>-2</td>\n",
              "      <td>3913.0</td>\n",
              "      <td>3102.0</td>\n",
              "      <td>689.0</td>\n",
              "      <td>0.0</td>\n",
              "      <td>0.0</td>\n",
              "      <td>0.0</td>\n",
              "      <td>0.0</td>\n",
              "      <td>689.0</td>\n",
              "      <td>0.0</td>\n",
              "      <td>0.0</td>\n",
              "      <td>0.0</td>\n",
              "      <td>0.0</td>\n",
              "      <td>1</td>\n",
              "    </tr>\n",
              "    <tr>\n",
              "      <th>1</th>\n",
              "      <td>2</td>\n",
              "      <td>120000.0</td>\n",
              "      <td>2</td>\n",
              "      <td>2</td>\n",
              "      <td>2</td>\n",
              "      <td>26</td>\n",
              "      <td>-1</td>\n",
              "      <td>2</td>\n",
              "      <td>0</td>\n",
              "      <td>0</td>\n",
              "      <td>0</td>\n",
              "      <td>2</td>\n",
              "      <td>2682.0</td>\n",
              "      <td>1725.0</td>\n",
              "      <td>2682.0</td>\n",
              "      <td>3272.0</td>\n",
              "      <td>3455.0</td>\n",
              "      <td>3261.0</td>\n",
              "      <td>0.0</td>\n",
              "      <td>1000.0</td>\n",
              "      <td>1000.0</td>\n",
              "      <td>1000.0</td>\n",
              "      <td>0.0</td>\n",
              "      <td>2000.0</td>\n",
              "      <td>1</td>\n",
              "    </tr>\n",
              "    <tr>\n",
              "      <th>2</th>\n",
              "      <td>3</td>\n",
              "      <td>90000.0</td>\n",
              "      <td>2</td>\n",
              "      <td>2</td>\n",
              "      <td>2</td>\n",
              "      <td>34</td>\n",
              "      <td>0</td>\n",
              "      <td>0</td>\n",
              "      <td>0</td>\n",
              "      <td>0</td>\n",
              "      <td>0</td>\n",
              "      <td>0</td>\n",
              "      <td>29239.0</td>\n",
              "      <td>14027.0</td>\n",
              "      <td>13559.0</td>\n",
              "      <td>14331.0</td>\n",
              "      <td>14948.0</td>\n",
              "      <td>15549.0</td>\n",
              "      <td>1518.0</td>\n",
              "      <td>1500.0</td>\n",
              "      <td>1000.0</td>\n",
              "      <td>1000.0</td>\n",
              "      <td>1000.0</td>\n",
              "      <td>5000.0</td>\n",
              "      <td>0</td>\n",
              "    </tr>\n",
              "    <tr>\n",
              "      <th>3</th>\n",
              "      <td>4</td>\n",
              "      <td>50000.0</td>\n",
              "      <td>2</td>\n",
              "      <td>2</td>\n",
              "      <td>1</td>\n",
              "      <td>37</td>\n",
              "      <td>0</td>\n",
              "      <td>0</td>\n",
              "      <td>0</td>\n",
              "      <td>0</td>\n",
              "      <td>0</td>\n",
              "      <td>0</td>\n",
              "      <td>46990.0</td>\n",
              "      <td>48233.0</td>\n",
              "      <td>49291.0</td>\n",
              "      <td>28314.0</td>\n",
              "      <td>28959.0</td>\n",
              "      <td>29547.0</td>\n",
              "      <td>2000.0</td>\n",
              "      <td>2019.0</td>\n",
              "      <td>1200.0</td>\n",
              "      <td>1100.0</td>\n",
              "      <td>1069.0</td>\n",
              "      <td>1000.0</td>\n",
              "      <td>0</td>\n",
              "    </tr>\n",
              "    <tr>\n",
              "      <th>4</th>\n",
              "      <td>5</td>\n",
              "      <td>50000.0</td>\n",
              "      <td>1</td>\n",
              "      <td>2</td>\n",
              "      <td>1</td>\n",
              "      <td>57</td>\n",
              "      <td>-1</td>\n",
              "      <td>0</td>\n",
              "      <td>-1</td>\n",
              "      <td>0</td>\n",
              "      <td>0</td>\n",
              "      <td>0</td>\n",
              "      <td>8617.0</td>\n",
              "      <td>5670.0</td>\n",
              "      <td>35835.0</td>\n",
              "      <td>20940.0</td>\n",
              "      <td>19146.0</td>\n",
              "      <td>19131.0</td>\n",
              "      <td>2000.0</td>\n",
              "      <td>36681.0</td>\n",
              "      <td>10000.0</td>\n",
              "      <td>9000.0</td>\n",
              "      <td>689.0</td>\n",
              "      <td>679.0</td>\n",
              "      <td>0</td>\n",
              "    </tr>\n",
              "  </tbody>\n",
              "</table>\n",
              "</div>"
            ],
            "text/plain": [
              "   ID  LIMIT_BAL  SEX  EDUCATION  ...  PAY_AMT4  PAY_AMT5  PAY_AMT6  def_pay\n",
              "0   1    20000.0    2          2  ...       0.0       0.0       0.0        1\n",
              "1   2   120000.0    2          2  ...    1000.0       0.0    2000.0        1\n",
              "2   3    90000.0    2          2  ...    1000.0    1000.0    5000.0        0\n",
              "3   4    50000.0    2          2  ...    1100.0    1069.0    1000.0        0\n",
              "4   5    50000.0    1          2  ...    9000.0     689.0     679.0        0\n",
              "\n",
              "[5 rows x 25 columns]"
            ]
          },
          "metadata": {
            "tags": []
          },
          "execution_count": 23
        }
      ]
    },
    {
      "cell_type": "code",
      "metadata": {
        "id": "6ShePagL1Luk",
        "colab": {
          "base_uri": "https://localhost:8080/",
          "height": 300
        },
        "outputId": "38182ebb-1186-40d6-f1a3-ba4fb6f4f245"
      },
      "source": [
        "#Renaming PAY_0 to PAY_1\n",
        "df=df.rename({'PAY_0':'PAY_1'})\n",
        "\n",
        "#Fixing the PAY_n\n",
        "fil = (df.PAY_1 == -2) | (df.PAY_1 == -1) | (df.PAY_1 == 0)\n",
        "df.loc[fil, 'PAY_1'] = 0\n",
        "fil = (df.PAY_2 == -2) | (df.PAY_2 == -1) | (df.PAY_2 == 0)\n",
        "df.loc[fil, 'PAY_2'] = 0\n",
        "fil = (df.PAY_3 == -2) | (df.PAY_3 == -1) | (df.PAY_3 == 0)\n",
        "df.loc[fil, 'PAY_3'] = 0\n",
        "fil = (df.PAY_4 == -2) | (df.PAY_4 == -1) | (df.PAY_4 == 0)\n",
        "df.loc[fil, 'PAY_4'] = 0\n",
        "fil = (df.PAY_5 == -2) | (df.PAY_5 == -1) | (df.PAY_5 == 0)\n",
        "df.loc[fil, 'PAY_5'] = 0\n",
        "fil = (df.PAY_6 == -2) | (df.PAY_6 == -1) | (df.PAY_6 == 0)\n",
        "df.loc[fil, 'PAY_6'] = 0\n",
        "\n",
        "df[['PAY_1','PAY_2','PAY_3','PAY_4','PAY_5']].describe()"
      ],
      "execution_count": null,
      "outputs": [
        {
          "output_type": "execute_result",
          "data": {
            "text/html": [
              "<div>\n",
              "<style scoped>\n",
              "    .dataframe tbody tr th:only-of-type {\n",
              "        vertical-align: middle;\n",
              "    }\n",
              "\n",
              "    .dataframe tbody tr th {\n",
              "        vertical-align: top;\n",
              "    }\n",
              "\n",
              "    .dataframe thead th {\n",
              "        text-align: right;\n",
              "    }\n",
              "</style>\n",
              "<table border=\"1\" class=\"dataframe\">\n",
              "  <thead>\n",
              "    <tr style=\"text-align: right;\">\n",
              "      <th></th>\n",
              "      <th>PAY_1</th>\n",
              "      <th>PAY_2</th>\n",
              "      <th>PAY_3</th>\n",
              "      <th>PAY_4</th>\n",
              "      <th>PAY_5</th>\n",
              "    </tr>\n",
              "  </thead>\n",
              "  <tbody>\n",
              "    <tr>\n",
              "      <th>count</th>\n",
              "      <td>30000.000000</td>\n",
              "      <td>30000.000000</td>\n",
              "      <td>30000.000000</td>\n",
              "      <td>30000.000000</td>\n",
              "      <td>30000.00000</td>\n",
              "    </tr>\n",
              "    <tr>\n",
              "      <th>mean</th>\n",
              "      <td>0.356767</td>\n",
              "      <td>0.320033</td>\n",
              "      <td>0.304067</td>\n",
              "      <td>0.258767</td>\n",
              "      <td>0.22150</td>\n",
              "    </tr>\n",
              "    <tr>\n",
              "      <th>std</th>\n",
              "      <td>0.760594</td>\n",
              "      <td>0.801727</td>\n",
              "      <td>0.790589</td>\n",
              "      <td>0.761113</td>\n",
              "      <td>0.71772</td>\n",
              "    </tr>\n",
              "    <tr>\n",
              "      <th>min</th>\n",
              "      <td>0.000000</td>\n",
              "      <td>0.000000</td>\n",
              "      <td>0.000000</td>\n",
              "      <td>0.000000</td>\n",
              "      <td>0.00000</td>\n",
              "    </tr>\n",
              "    <tr>\n",
              "      <th>25%</th>\n",
              "      <td>0.000000</td>\n",
              "      <td>0.000000</td>\n",
              "      <td>0.000000</td>\n",
              "      <td>0.000000</td>\n",
              "      <td>0.00000</td>\n",
              "    </tr>\n",
              "    <tr>\n",
              "      <th>50%</th>\n",
              "      <td>0.000000</td>\n",
              "      <td>0.000000</td>\n",
              "      <td>0.000000</td>\n",
              "      <td>0.000000</td>\n",
              "      <td>0.00000</td>\n",
              "    </tr>\n",
              "    <tr>\n",
              "      <th>75%</th>\n",
              "      <td>0.000000</td>\n",
              "      <td>0.000000</td>\n",
              "      <td>0.000000</td>\n",
              "      <td>0.000000</td>\n",
              "      <td>0.00000</td>\n",
              "    </tr>\n",
              "    <tr>\n",
              "      <th>max</th>\n",
              "      <td>8.000000</td>\n",
              "      <td>8.000000</td>\n",
              "      <td>8.000000</td>\n",
              "      <td>8.000000</td>\n",
              "      <td>8.00000</td>\n",
              "    </tr>\n",
              "  </tbody>\n",
              "</table>\n",
              "</div>"
            ],
            "text/plain": [
              "              PAY_1         PAY_2         PAY_3         PAY_4        PAY_5\n",
              "count  30000.000000  30000.000000  30000.000000  30000.000000  30000.00000\n",
              "mean       0.356767      0.320033      0.304067      0.258767      0.22150\n",
              "std        0.760594      0.801727      0.790589      0.761113      0.71772\n",
              "min        0.000000      0.000000      0.000000      0.000000      0.00000\n",
              "25%        0.000000      0.000000      0.000000      0.000000      0.00000\n",
              "50%        0.000000      0.000000      0.000000      0.000000      0.00000\n",
              "75%        0.000000      0.000000      0.000000      0.000000      0.00000\n",
              "max        8.000000      8.000000      8.000000      8.000000      8.00000"
            ]
          },
          "metadata": {
            "tags": []
          },
          "execution_count": 24
        }
      ]
    },
    {
      "cell_type": "markdown",
      "metadata": {
        "id": "TXUqYRYT21Wb"
      },
      "source": [
        "<font color='red'> Cleaned PAY_n"
      ]
    },
    {
      "cell_type": "markdown",
      "metadata": {
        "id": "2NiF1Iw43gUE"
      },
      "source": [
        "##Further Exploratory Analysis"
      ]
    },
    {
      "cell_type": "markdown",
      "metadata": {
        "id": "LEgMY5u1h0ec"
      },
      "source": [
        "###Analysis of AGE, Marriage, SEX"
      ]
    },
    {
      "cell_type": "code",
      "metadata": {
        "id": "2wZugd9Qh7hK",
        "colab": {
          "base_uri": "https://localhost:8080/",
          "height": 384
        },
        "outputId": "28902c5c-91eb-49b7-e36c-90a6629339e4"
      },
      "source": [
        "fig, ax1 = plt.subplots(ncols=1, figsize=(10,6))\n",
        "s = sns.boxplot(ax = ax1, x='MARRIAGE', y='AGE', hue='SEX',data=df, palette=\"PRGn\",showfliers=False)\n",
        "s.set_xticklabels(s.get_xticklabels(),rotation=90)\n",
        "plt.show();"
      ],
      "execution_count": null,
      "outputs": [
        {
          "output_type": "display_data",
          "data": {
            "image/png": "[encoded data removed]",
            "text/plain": [
              "<Figure size 720x432 with 1 Axes>"
            ]
          },
          "metadata": {
            "tags": [],
            "needs_background": "light"
          }
        }
      ]
    },
    {
      "cell_type": "markdown",
      "metadata": {
        "id": "KlTgeClfiirC"
      },
      "source": [
        "<font color='red'> Marriage status meaning is:\n",
        "\n",
        "    1 : married\n",
        "    2 : single\n",
        "    3 : others\n",
        "\n",
        "<font color='red'>Sex meaning is:\n",
        "\n",
        "    1 : male\n",
        "    2 : female\n",
        "\n",
        "\n",
        "\n",
        "<font color='red'>It looks like Married status 3 (others), with mean values over 40 and Q4 values over 60 means mostly vidowed or divorced whilst Married status 0 could be not specified or divorced, as Q1 values are above values for married of both sexes.<br>\n",
        "<br>\n",
        "Married males have mean age above married women. Unmarried males have mean value for age above unmarried women as well but closer. Q3 abd Q4 values for married man are above corresponding values for married women\n",
        "</font>\n",
        "![Screenshot_2020-09-26 Default of Credit Card Clients - Predictive Models.png](data:image/png;base64,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)\n",
        "---"
      ]
    },
    {
      "cell_type": "markdown",
      "metadata": {
        "id": "zFxQk9s55Hv9"
      },
      "source": [
        "###LIMIT_BAL v/s SEX\n",
        "Here we investigate the credit limit distribution vs sex"
      ]
    },
    {
      "cell_type": "code",
      "metadata": {
        "id": "H6osh27w3na8",
        "colab": {
          "base_uri": "https://localhost:8080/",
          "height": 350
        },
        "outputId": "c2c7ada3-03a7-4bd2-ba7b-17b7e7bc6df2"
      },
      "source": [
        "#Making 2 box plots , one with Outliers and without them\n",
        "fig, (ax1, ax2) = plt.subplots(ncols=2, figsize=(12,6))\n",
        "s = sns.boxplot(ax = ax1, x=\"SEX\", y=\"LIMIT_BAL\", hue=\"SEX\",data=df, palette=\"PRGn\",showfliers=True).set(xlabel='Male                             Female')\n",
        "s = sns.boxplot(ax = ax2, x=\"SEX\", y=\"LIMIT_BAL\", hue=\"SEX\",data=df, palette=\"PRGn\",showfliers=False).set(xlabel='Male                             Female')\n",
        "plt.show();\n",
        "\n",
        "plkk"
      ],
      "execution_count": null,
      "outputs": [
        {
          "output_type": "display_data",
          "data": {
            "image/png": "[encoded data removed]",
            "text/plain": [
              "<Figure size 864x432 with 2 Axes>"
            ]
          },
          "metadata": {
            "tags": [],
            "needs_background": "light"
          }
        }
      ]
    },
    {
      "cell_type": "markdown",
      "metadata": {
        "id": "MFHbGfiV7Gtj"
      },
      "source": [
        "<font color='red'> We see that Males & Females have similar credit limits , however males have also got a few lower limit credit cards than females. "
      ]
    },
    {
      "cell_type": "code",
      "metadata": {
        "id": "vj6ikAcf7zMZ",
        "colab": {
          "base_uri": "https://localhost:8080/",
          "height": 143
        },
        "outputId": "1469d824-a75a-4003-b20f-90e76592f34d"
      },
      "source": [
        "gender=pd.crosstab(df.SEX, df.def_pay)\n",
        "gender['default_perc'] = (gender[1]/(gender[0] + gender[1])) \n",
        "gender"
      ],
      "execution_count": null,
      "outputs": [
        {
          "output_type": "execute_result",
          "data": {
            "text/html": [
              "<div>\n",
              "<style scoped>\n",
              "    .dataframe tbody tr th:only-of-type {\n",
              "        vertical-align: middle;\n",
              "    }\n",
              "\n",
              "    .dataframe tbody tr th {\n",
              "        vertical-align: top;\n",
              "    }\n",
              "\n",
              "    .dataframe thead th {\n",
              "        text-align: right;\n",
              "    }\n",
              "</style>\n",
              "<table border=\"1\" class=\"dataframe\">\n",
              "  <thead>\n",
              "    <tr style=\"text-align: right;\">\n",
              "      <th>def_pay</th>\n",
              "      <th>0</th>\n",
              "      <th>1</th>\n",
              "      <th>default_perc</th>\n",
              "    </tr>\n",
              "    <tr>\n",
              "      <th>SEX</th>\n",
              "      <th></th>\n",
              "      <th></th>\n",
              "      <th></th>\n",
              "    </tr>\n",
              "  </thead>\n",
              "  <tbody>\n",
              "    <tr>\n",
              "      <th>1</th>\n",
              "      <td>9015</td>\n",
              "      <td>2873</td>\n",
              "      <td>0.241672</td>\n",
              "    </tr>\n",
              "    <tr>\n",
              "      <th>2</th>\n",
              "      <td>14349</td>\n",
              "      <td>3763</td>\n",
              "      <td>0.207763</td>\n",
              "    </tr>\n",
              "  </tbody>\n",
              "</table>\n",
              "</div>"
            ],
            "text/plain": [
              "def_pay      0     1  default_perc\n",
              "SEX                               \n",
              "1         9015  2873      0.241672\n",
              "2        14349  3763      0.207763"
            ]
          },
          "metadata": {
            "tags": []
          },
          "execution_count": 27
        }
      ]
    },
    {
      "cell_type": "markdown",
      "metadata": {
        "id": "SzEZEDOu-LEX"
      },
      "source": [
        "<font color='red'> We see that Males have a higher percentage of default amongst the clients"
      ]
    },
    {
      "cell_type": "markdown",
      "metadata": {
        "id": "MxmsLDfWowA5"
      },
      "source": [
        "###corr_2_cols function declaration"
      ]
    },
    {
      "cell_type": "code",
      "metadata": {
        "id": "foWIM6D3-Kwg"
      },
      "source": [
        "# defining a function for ease of making tables for default by Variable type\n",
        "def corr_2_cols(Col1, Col2):\n",
        "    res = df.groupby([Col1, Col2]).size().unstack()\n",
        "    res['perc'] = (res[res.columns[1]]/(res[res.columns[0]] + res[res.columns[1]]))\n",
        "    return res"
      ],
      "execution_count": null,
      "outputs": []
    },
    {
      "cell_type": "markdown",
      "metadata": {
        "id": "VHSdOC-t_BtI"
      },
      "source": [
        "###Education v/s default"
      ]
    },
    {
      "cell_type": "code",
      "metadata": {
        "id": "VslgOgEK_FKv",
        "colab": {
          "base_uri": "https://localhost:8080/",
          "height": 206
        },
        "outputId": "ae9ef779-c0ac-4fc9-cc91-26f5bebc4fb0"
      },
      "source": [
        "corr_2_cols('EDUCATION', 'def_pay')"
      ],
      "execution_count": null,
      "outputs": [
        {
          "output_type": "execute_result",
          "data": {
            "text/html": [
              "<div>\n",
              "<style scoped>\n",
              "    .dataframe tbody tr th:only-of-type {\n",
              "        vertical-align: middle;\n",
              "    }\n",
              "\n",
              "    .dataframe tbody tr th {\n",
              "        vertical-align: top;\n",
              "    }\n",
              "\n",
              "    .dataframe thead th {\n",
              "        text-align: right;\n",
              "    }\n",
              "</style>\n",
              "<table border=\"1\" class=\"dataframe\">\n",
              "  <thead>\n",
              "    <tr style=\"text-align: right;\">\n",
              "      <th>def_pay</th>\n",
              "      <th>0</th>\n",
              "      <th>1</th>\n",
              "      <th>perc</th>\n",
              "    </tr>\n",
              "    <tr>\n",
              "      <th>EDUCATION</th>\n",
              "      <th></th>\n",
              "      <th></th>\n",
              "      <th></th>\n",
              "    </tr>\n",
              "  </thead>\n",
              "  <tbody>\n",
              "    <tr>\n",
              "      <th>1</th>\n",
              "      <td>8549</td>\n",
              "      <td>2036</td>\n",
              "      <td>0.192348</td>\n",
              "    </tr>\n",
              "    <tr>\n",
              "      <th>2</th>\n",
              "      <td>10700</td>\n",
              "      <td>3330</td>\n",
              "      <td>0.237349</td>\n",
              "    </tr>\n",
              "    <tr>\n",
              "      <th>3</th>\n",
              "      <td>3680</td>\n",
              "      <td>1237</td>\n",
              "      <td>0.251576</td>\n",
              "    </tr>\n",
              "    <tr>\n",
              "      <th>4</th>\n",
              "      <td>435</td>\n",
              "      <td>33</td>\n",
              "      <td>0.070513</td>\n",
              "    </tr>\n",
              "  </tbody>\n",
              "</table>\n",
              "</div>"
            ],
            "text/plain": [
              "def_pay        0     1      perc\n",
              "EDUCATION                       \n",
              "1           8549  2036  0.192348\n",
              "2          10700  3330  0.237349\n",
              "3           3680  1237  0.251576\n",
              "4            435    33  0.070513"
            ]
          },
          "metadata": {
            "tags": []
          },
          "execution_count": 29
        }
      ]
    },
    {
      "cell_type": "markdown",
      "metadata": {
        "id": "-8laYdwa_yLg"
      },
      "source": [
        "<font color='red'>\n",
        "It seems that the higher is the education, the lower is the probability of defaulting the next month. Only exception is for the category labeled \"Other\" that, if we stick to the documentation, would be lower than high school. However, numerically they will not have much weight in the final result as they are just a meagre portion of the whole data."
      ]
    },
    {
      "cell_type": "markdown",
      "metadata": {
        "id": "ApdHxsE9AEAg"
      },
      "source": [
        "###Marriage v/s Default"
      ]
    },
    {
      "cell_type": "code",
      "metadata": {
        "id": "O92rWDfNAIV3",
        "colab": {
          "base_uri": "https://localhost:8080/",
          "height": 175
        },
        "outputId": "5906f1e3-f0a8-4d99-ef20-1e360e76a034"
      },
      "source": [
        "corr_2_cols('MARRIAGE', 'def_pay')"
      ],
      "execution_count": null,
      "outputs": [
        {
          "output_type": "execute_result",
          "data": {
            "text/html": [
              "<div>\n",
              "<style scoped>\n",
              "    .dataframe tbody tr th:only-of-type {\n",
              "        vertical-align: middle;\n",
              "    }\n",
              "\n",
              "    .dataframe tbody tr th {\n",
              "        vertical-align: top;\n",
              "    }\n",
              "\n",
              "    .dataframe thead th {\n",
              "        text-align: right;\n",
              "    }\n",
              "</style>\n",
              "<table border=\"1\" class=\"dataframe\">\n",
              "  <thead>\n",
              "    <tr style=\"text-align: right;\">\n",
              "      <th>def_pay</th>\n",
              "      <th>0</th>\n",
              "      <th>1</th>\n",
              "      <th>perc</th>\n",
              "    </tr>\n",
              "    <tr>\n",
              "      <th>MARRIAGE</th>\n",
              "      <th></th>\n",
              "      <th></th>\n",
              "      <th></th>\n",
              "    </tr>\n",
              "  </thead>\n",
              "  <tbody>\n",
              "    <tr>\n",
              "      <th>1</th>\n",
              "      <td>10453</td>\n",
              "      <td>3206</td>\n",
              "      <td>0.234717</td>\n",
              "    </tr>\n",
              "    <tr>\n",
              "      <th>2</th>\n",
              "      <td>12623</td>\n",
              "      <td>3341</td>\n",
              "      <td>0.209283</td>\n",
              "    </tr>\n",
              "    <tr>\n",
              "      <th>3</th>\n",
              "      <td>288</td>\n",
              "      <td>89</td>\n",
              "      <td>0.236074</td>\n",
              "    </tr>\n",
              "  </tbody>\n",
              "</table>\n",
              "</div>"
            ],
            "text/plain": [
              "def_pay       0     1      perc\n",
              "MARRIAGE                       \n",
              "1         10453  3206  0.234717\n",
              "2         12623  3341  0.209283\n",
              "3           288    89  0.236074"
            ]
          },
          "metadata": {
            "tags": []
          },
          "execution_count": 30
        }
      ]
    },
    {
      "cell_type": "code",
      "metadata": {
        "id": "M2W8tJ-6Ee7L",
        "colab": {
          "base_uri": "https://localhost:8080/",
          "height": 675
        },
        "outputId": "5d02dfd4-a1c5-4532-9e46-54e363417273"
      },
      "source": [
        "g = sns.FacetGrid(df, col='def_pay', row= \"MARRIAGE\", hue='SEX')\n",
        "g.map(plt.hist, 'AGE', alpha=0.3, bins=25) \n",
        "g.add_legend()"
      ],
      "execution_count": null,
      "outputs": [
        {
          "output_type": "execute_result",
          "data": {
            "text/plain": [
              "<seaborn.axisgrid.FacetGrid at 0x7f2e8a08ec50>"
            ]
          },
          "metadata": {
            "tags": []
          },
          "execution_count": 31
        },
        {
          "output_type": "display_data",
          "data": {
            "image/png": "[encoded data removed]",
            "text/plain": [
              "<Figure size 474.375x648 with 6 Axes>"
            ]
          },
          "metadata": {
            "tags": [],
            "needs_background": "light"
          }
        }
      ]
    },
    {
      "cell_type": "markdown",
      "metadata": {
        "id": "_eNw080jFFBL"
      },
      "source": [
        "<font color='red'> I can not make sense of these graphs, yatharth may add something"
      ]
    },
    {
      "cell_type": "markdown",
      "metadata": {
        "id": "jr7MC-P0EW8b"
      },
      "source": [
        "###SEX v/s default"
      ]
    },
    {
      "cell_type": "code",
      "metadata": {
        "id": "6dHZ8yDWDy-6",
        "colab": {
          "base_uri": "https://localhost:8080/",
          "height": 243
        },
        "outputId": "27c18f7a-6a35-4fa9-860a-acc3933244d8"
      },
      "source": [
        "g = sns.FacetGrid(df, col='SEX', hue='def_pay')\n",
        "g.map(plt.hist, 'AGE', alpha=0.6, bins=25) #alpha is for opacity\n",
        "g.add_legend()"
      ],
      "execution_count": null,
      "outputs": [
        {
          "output_type": "execute_result",
          "data": {
            "text/plain": [
              "<seaborn.axisgrid.FacetGrid at 0x7f2e86418400>"
            ]
          },
          "metadata": {
            "tags": []
          },
          "execution_count": 32
        },
        {
          "output_type": "display_data",
          "data": {
            "image/png": "[encoded data removed]",
            "text/plain": [
              "<Figure size 479.375x216 with 2 Axes>"
            ]
          },
          "metadata": {
            "tags": [],
            "needs_background": "light"
          }
        }
      ]
    },
    {
      "cell_type": "code",
      "metadata": {
        "id": "KAw7vBrnF8JQ",
        "colab": {
          "base_uri": "https://localhost:8080/",
          "height": 243
        },
        "outputId": "67905184-8c82-4d9b-ba2e-09ccbdce5154"
      },
      "source": [
        "g = sns.FacetGrid(df, col = 'def_pay')\n",
        "g.map(plt.hist, 'AGE')"
      ],
      "execution_count": null,
      "outputs": [
        {
          "output_type": "execute_result",
          "data": {
            "text/plain": [
              "<seaborn.axisgrid.FacetGrid at 0x7f2e8a08eba8>"
            ]
          },
          "metadata": {
            "tags": []
          },
          "execution_count": 33
        },
        {
          "output_type": "display_data",
          "data": {
            "image/png": "[encoded data removed]",
            "text/plain": [
              "<Figure size 432x216 with 2 Axes>"
            ]
          },
          "metadata": {
            "tags": [],
            "needs_background": "light"
          }
        }
      ]
    },
    {
      "cell_type": "markdown",
      "metadata": {
        "id": "_ZZ5QLvDGF05"
      },
      "source": [
        "###Features Correlation"
      ]
    },
    {
      "cell_type": "code",
      "metadata": {
        "id": "DV-kBEeaGNKQ",
        "colab": {
          "base_uri": "https://localhost:8080/",
          "height": 515
        },
        "outputId": "e54cc8f3-663d-4e39-ac08-c83b21a46503"
      },
      "source": [
        "var = ['BILL_AMT1','BILL_AMT2','BILL_AMT3','BILL_AMT4','BILL_AMT5','BILL_AMT6']\n",
        "\n",
        "plt.figure(figsize = (8,8))\n",
        "plt.title('Amount of bill statement (Apr-Sept) \\ncorrelation plot (Pearson)')\n",
        "corr = df[var].corr()\n",
        "sns.heatmap(corr,xticklabels=corr.columns,yticklabels=corr.columns,linewidths=.1,vmin=-1, vmax=1)\n",
        "plt.show()"
      ],
      "execution_count": null,
      "outputs": [
        {
          "output_type": "display_data",
          "data": {
            "image/png": "[encoded data removed]",
            "text/plain": [
              "<Figure size 576x576 with 2 Axes>"
            ]
          },
          "metadata": {
            "tags": [],
            "needs_background": "light"
          }
        }
      ]
    },
    {
      "cell_type": "markdown",
      "metadata": {
        "id": "5XFunME9ecmm"
      },
      "source": [
        "<font color='red'>We see that the correlation between the bill amounts of clients decrease as the distance of months increase. This may mean that there is considerable variation in consumption patterns of customers over months. "
      ]
    },
    {
      "cell_type": "code",
      "metadata": {
        "id": "0LboXQIKGdFw",
        "colab": {
          "base_uri": "https://localhost:8080/",
          "height": 515
        },
        "outputId": "f9a22fe2-b16d-4b3a-ddfb-ffab1d43a735"
      },
      "source": [
        "var = ['PAY_AMT1', 'PAY_AMT2', 'PAY_AMT3', 'PAY_AMT4', 'PAY_AMT5']\n",
        "\n",
        "plt.figure(figsize = (8,8))\n",
        "plt.title('Amount of previous payment (Apr-Sept) \\ncorrelation plot (Pearson)')\n",
        "corr = df[var].corr()\n",
        "sns.heatmap(corr,xticklabels=corr.columns,yticklabels=corr.columns,linewidths=.1,vmin=-1, vmax=1)\n",
        "plt.show()"
      ],
      "execution_count": null,
      "outputs": [
        {
          "output_type": "display_data",
          "data": {
            "image/png": "[encoded data removed]",
            "text/plain": [
              "<Figure size 576x576 with 2 Axes>"
            ]
          },
          "metadata": {
            "tags": [],
            "needs_background": "light"
          }
        }
      ]
    },
    {
      "cell_type": "markdown",
      "metadata": {
        "id": "bwhKfoTggUzl"
      },
      "source": [
        "<font color='red'> We again witness a decreasing correlation with increasing distance between months. I could say that there is a stark variability in consumption & spending patterns of clients over months. However the payment data is uncorrelated by a higher degree than the billed amount data. This needs further investigation.\n",
        "\n",
        "\n",
        "---"
      ]
    },
    {
      "cell_type": "markdown",
      "metadata": {
        "id": "DbYQVmN9m_lY"
      },
      "source": [
        "##Feature Engineering (Beginners)\n",
        "\n",
        "We both discussed and decided to make bins for the numerical data to get a broader idea and account for unnecessary noise in the data."
      ]
    },
    {
      "cell_type": "code",
      "metadata": {
        "id": "v5utG3qjnz4Q"
      },
      "source": [
        "non_feat_engg_data = df\n",
        "df.to_csv('/content/drive/My Drive/Minor Project (Machine Learning)/Cleaned_data.csv',index=False)"
      ],
      "execution_count": null,
      "outputs": []
    },
    {
      "cell_type": "markdown",
      "metadata": {
        "id": "EHoDyI8Enk2A"
      },
      "source": [
        "###Bins for Single men, women & married men,women & divorced or widowed men,women"
      ]
    },
    {
      "cell_type": "code",
      "metadata": {
        "id": "o-hLTqBEnzJM",
        "colab": {
          "base_uri": "https://localhost:8080/",
          "height": 269
        },
        "outputId": "4f5e6d03-6747-473b-c852-99229572fc8b"
      },
      "source": [
        "df['SE_MA'] = 0\n",
        "df.loc[((df.SEX == 1) & (df.MARRIAGE == 1)) , 'SE_MA'] = 1 #married man\n",
        "df.loc[((df.SEX == 1) & (df.MARRIAGE == 2)) , 'SE_MA'] = 2 #single man\n",
        "df.loc[((df.SEX == 1) & (df.MARRIAGE == 3)) , 'SE_MA'] = 3 #divorced man\n",
        "df.loc[((df.SEX == 2) & (df.MARRIAGE == 1)) , 'SE_MA'] = 4 #married woman\n",
        "df.loc[((df.SEX == 2) & (df.MARRIAGE == 2)) , 'SE_MA'] = 5 #single woman\n",
        "df.loc[((df.SEX == 2) & (df.MARRIAGE == 3)) , 'SE_MA'] = 6 #divorced woman\n",
        "corr_2_cols('SE_MA', 'def_pay')"
      ],
      "execution_count": null,
      "outputs": [
        {
          "output_type": "execute_result",
          "data": {
            "text/html": [
              "<div>\n",
              "<style scoped>\n",
              "    .dataframe tbody tr th:only-of-type {\n",
              "        vertical-align: middle;\n",
              "    }\n",
              "\n",
              "    .dataframe tbody tr th {\n",
              "        vertical-align: top;\n",
              "    }\n",
              "\n",
              "    .dataframe thead th {\n",
              "        text-align: right;\n",
              "    }\n",
              "</style>\n",
              "<table border=\"1\" class=\"dataframe\">\n",
              "  <thead>\n",
              "    <tr style=\"text-align: right;\">\n",
              "      <th>def_pay</th>\n",
              "      <th>0</th>\n",
              "      <th>1</th>\n",
              "      <th>perc</th>\n",
              "    </tr>\n",
              "    <tr>\n",
              "      <th>SE_MA</th>\n",
              "      <th></th>\n",
              "      <th></th>\n",
              "      <th></th>\n",
              "    </tr>\n",
              "  </thead>\n",
              "  <tbody>\n",
              "    <tr>\n",
              "      <th>1</th>\n",
              "      <td>3844</td>\n",
              "      <td>1346</td>\n",
              "      <td>0.259345</td>\n",
              "    </tr>\n",
              "    <tr>\n",
              "      <th>2</th>\n",
              "      <td>5068</td>\n",
              "      <td>1485</td>\n",
              "      <td>0.226614</td>\n",
              "    </tr>\n",
              "    <tr>\n",
              "      <th>3</th>\n",
              "      <td>103</td>\n",
              "      <td>42</td>\n",
              "      <td>0.289655</td>\n",
              "    </tr>\n",
              "    <tr>\n",
              "      <th>4</th>\n",
              "      <td>6609</td>\n",
              "      <td>1860</td>\n",
              "      <td>0.219625</td>\n",
              "    </tr>\n",
              "    <tr>\n",
              "      <th>5</th>\n",
              "      <td>7555</td>\n",
              "      <td>1856</td>\n",
              "      <td>0.197216</td>\n",
              "    </tr>\n",
              "    <tr>\n",
              "      <th>6</th>\n",
              "      <td>185</td>\n",
              "      <td>47</td>\n",
              "      <td>0.202586</td>\n",
              "    </tr>\n",
              "  </tbody>\n",
              "</table>\n",
              "</div>"
            ],
            "text/plain": [
              "def_pay     0     1      perc\n",
              "SE_MA                        \n",
              "1        3844  1346  0.259345\n",
              "2        5068  1485  0.226614\n",
              "3         103    42  0.289655\n",
              "4        6609  1860  0.219625\n",
              "5        7555  1856  0.197216\n",
              "6         185    47  0.202586"
            ]
          },
          "metadata": {
            "tags": []
          },
          "execution_count": 37
        }
      ]
    },
    {
      "cell_type": "markdown",
      "metadata": {
        "id": "TzibKnkVoCwM"
      },
      "source": [
        "<font color='red'>For the sake of readability\n",
        "\n",
        "    1=married man\n",
        "    2=single man\n",
        "    3=divorced man\n",
        "    4=married woman\n",
        "    5=single woman\n",
        "    6=divorced woman\n",
        "\n",
        "<font color='red' size=5> From this data we see that Married & divorced/widower men are the highly likely to default. While for women it is somewhat constant to default throughout </font>"
      ]
    },
    {
      "cell_type": "markdown",
      "metadata": {
        "id": "WPHK_btuqcAQ"
      },
      "source": [
        "###Bins for Age-group"
      ]
    },
    {
      "cell_type": "code",
      "metadata": {
        "id": "FslS9n2HrByo"
      },
      "source": [
        "df.AGE.describe()"
      ],
      "execution_count": null,
      "outputs": []
    },
    {
      "cell_type": "code",
      "metadata": {
        "id": "-kJwEaoJqe7Y",
        "colab": {
          "base_uri": "https://localhost:8080/",
          "height": 283
        },
        "outputId": "18dfea0f-be0a-4558-f248-d02f4933ce69"
      },
      "source": [
        "df['AgeBin'] = 0 #creates a column of 0\n",
        "df.loc[((df['AGE'] > 20) & (df['AGE'] < 30)) , 'AgeBin'] = 1\n",
        "df.loc[((df['AGE'] >= 30) & (df['AGE'] < 40)) , 'AgeBin'] = 2\n",
        "df.loc[((df['AGE'] >= 40) & (df['AGE'] < 50)) , 'AgeBin'] = 3\n",
        "df.loc[((df['AGE'] >= 50) & (df['AGE'] < 60)) , 'AgeBin'] = 4\n",
        "df.loc[((df['AGE'] >= 60) & (df['AGE'] < 70)) , 'AgeBin'] = 5\n",
        "df.loc[((df['AGE'] >= 70) & (df['AGE'] < 81)) , 'AgeBin'] = 6\n",
        "df.AgeBin.hist()\n",
        "import pylab as pl\n",
        "pl.title(\"Number of customers v/s AgeBin\")\n",
        "pl.ylabel(\"Number of Customers\")\n",
        "pl.xlabel(\"Age\")"
      ],
      "execution_count": null,
      "outputs": [
        {
          "output_type": "execute_result",
          "data": {
            "text/plain": [
              "<matplotlib.axes._subplots.AxesSubplot at 0x7f2e85e43160>"
            ]
          },
          "metadata": {
            "tags": []
          },
          "execution_count": 39
        },
        {
          "output_type": "display_data",
          "data": {
            "image/png": "[encoded data removed]",
            "text/plain": [
              "<Figure size 432x288 with 1 Axes>"
            ]
          },
          "metadata": {
            "tags": [],
            "needs_background": "light"
          }
        }
      ]
    },
    {
      "cell_type": "markdown",
      "metadata": {
        "id": "fDnkLsAyqkQ2"
      },
      "source": [
        "<font color='red'> For the sake of readability:\n",
        "\n",
        "    bin 1= (20,30)\n",
        "    bin2=[30,40)\n",
        "    bin 3=[40,50)\n",
        "    bin 4=[50,60)\n",
        "    bin 5=[60,70)\n",
        "    bin 3=[70,81)\n",
        "\n",
        "---"
      ]
    },
    {
      "cell_type": "code",
      "metadata": {
        "id": "nWPh1UdfqjYu",
        "colab": {
          "base_uri": "https://localhost:8080/",
          "height": 269
        },
        "outputId": "8cefcf86-79d9-4c1b-d8b7-fea51cb37f3f"
      },
      "source": [
        "corr_2_cols('AgeBin', 'def_pay')"
      ],
      "execution_count": null,
      "outputs": [
        {
          "output_type": "execute_result",
          "data": {
            "text/html": [
              "<div>\n",
              "<style scoped>\n",
              "    .dataframe tbody tr th:only-of-type {\n",
              "        vertical-align: middle;\n",
              "    }\n",
              "\n",
              "    .dataframe tbody tr th {\n",
              "        vertical-align: top;\n",
              "    }\n",
              "\n",
              "    .dataframe thead th {\n",
              "        text-align: right;\n",
              "    }\n",
              "</style>\n",
              "<table border=\"1\" class=\"dataframe\">\n",
              "  <thead>\n",
              "    <tr style=\"text-align: right;\">\n",
              "      <th>def_pay</th>\n",
              "      <th>0</th>\n",
              "      <th>1</th>\n",
              "      <th>perc</th>\n",
              "    </tr>\n",
              "    <tr>\n",
              "      <th>AgeBin</th>\n",
              "      <th></th>\n",
              "      <th></th>\n",
              "      <th></th>\n",
              "    </tr>\n",
              "  </thead>\n",
              "  <tbody>\n",
              "    <tr>\n",
              "      <th>1</th>\n",
              "      <td>7421</td>\n",
              "      <td>2197</td>\n",
              "      <td>0.228426</td>\n",
              "    </tr>\n",
              "    <tr>\n",
              "      <th>2</th>\n",
              "      <td>8962</td>\n",
              "      <td>2276</td>\n",
              "      <td>0.202527</td>\n",
              "    </tr>\n",
              "    <tr>\n",
              "      <th>3</th>\n",
              "      <td>4979</td>\n",
              "      <td>1485</td>\n",
              "      <td>0.229734</td>\n",
              "    </tr>\n",
              "    <tr>\n",
              "      <th>4</th>\n",
              "      <td>1759</td>\n",
              "      <td>582</td>\n",
              "      <td>0.248612</td>\n",
              "    </tr>\n",
              "    <tr>\n",
              "      <th>5</th>\n",
              "      <td>225</td>\n",
              "      <td>89</td>\n",
              "      <td>0.283439</td>\n",
              "    </tr>\n",
              "    <tr>\n",
              "      <th>6</th>\n",
              "      <td>18</td>\n",
              "      <td>7</td>\n",
              "      <td>0.280000</td>\n",
              "    </tr>\n",
              "  </tbody>\n",
              "</table>\n",
              "</div>"
            ],
            "text/plain": [
              "def_pay     0     1      perc\n",
              "AgeBin                       \n",
              "1        7421  2197  0.228426\n",
              "2        8962  2276  0.202527\n",
              "3        4979  1485  0.229734\n",
              "4        1759   582  0.248612\n",
              "5         225    89  0.283439\n",
              "6          18     7  0.280000"
            ]
          },
          "metadata": {
            "tags": []
          },
          "execution_count": 40
        }
      ]
    },
    {
      "cell_type": "markdown",
      "metadata": {
        "id": "NKA8-hWHr8_7"
      },
      "source": [
        "<font color='red'> It seems people above the age of 60 tend to have a higher default chances"
      ]
    },
    {
      "cell_type": "code",
      "metadata": {
        "id": "jZpGiX320x23"
      },
      "source": [
        "#df.to_csv('/content/drive/My Drive/Minor Project (Machine Learning)/Credit Default/Cleaned_featured_data.csv')"
      ],
      "execution_count": null,
      "outputs": []
    },
    {
      "cell_type": "code",
      "metadata": {
        "id": "GXCbNt0S2vna"
      },
      "source": [
        "#df.to_csv('/content/drive/My Drive/Minor Project (Machine Learning)/Cleaned_featured_data.csv',index=False)"
      ],
      "execution_count": null,
      "outputs": []
    },
    {
      "cell_type": "markdown",
      "metadata": {
        "id": "TMavCjIp4jf1"
      },
      "source": [
        "## Models\n",
        "Here we try to use some well-known classifiers."
      ]
    },
    {
      "cell_type": "code",
      "metadata": {
        "id": "1kReA0mU8Xwq",
        "colab": {
          "base_uri": "https://localhost:8080/",
          "height": 518
        },
        "outputId": "fa1a11f6-f202-452a-9e30-99d5a374cdc9"
      },
      "source": [
        "#features\n",
        "X=df.drop('def_pay',axis=1)\n",
        "X=X.drop('SEX',axis=1)\n",
        "X=X.drop('MARRIAGE',axis=1)\n",
        "X=X.drop('AGE',axis=1)\n",
        "X.info()\n",
        "#predicted class\n",
        "y=df.def_pay"
      ],
      "execution_count": null,
      "outputs": [
        {
          "output_type": "stream",
          "text": [
            "<class 'pandas.core.frame.DataFrame'>\n",
            "Int64Index: 30000 entries, 0 to 29999\n",
            "Data columns (total 23 columns):\n",
            " #   Column     Non-Null Count  Dtype  \n",
            "---  ------     --------------  -----  \n",
            " 0   ID         30000 non-null  int64  \n",
            " 1   LIMIT_BAL  30000 non-null  float64\n",
            " 2   EDUCATION  30000 non-null  int64  \n",
            " 3   PAY_1      30000 non-null  int64  \n",
            " 4   PAY_2      30000 non-null  int64  \n",
            " 5   PAY_3      30000 non-null  int64  \n",
            " 6   PAY_4      30000 non-null  int64  \n",
            " 7   PAY_5      30000 non-null  int64  \n",
            " 8   PAY_6      30000 non-null  int64  \n",
            " 9   BILL_AMT1  30000 non-null  float64\n",
            " 10  BILL_AMT2  30000 non-null  float64\n",
            " 11  BILL_AMT3  30000 non-null  float64\n",
            " 12  BILL_AMT4  30000 non-null  float64\n",
            " 13  BILL_AMT5  30000 non-null  float64\n",
            " 14  BILL_AMT6  30000 non-null  float64\n",
            " 15  PAY_AMT1   30000 non-null  float64\n",
            " 16  PAY_AMT2   30000 non-null  float64\n",
            " 17  PAY_AMT3   30000 non-null  float64\n",
            " 18  PAY_AMT4   30000 non-null  float64\n",
            " 19  PAY_AMT5   30000 non-null  float64\n",
            " 20  PAY_AMT6   30000 non-null  float64\n",
            " 21  SE_MA      30000 non-null  int64  \n",
            " 22  AgeBin     30000 non-null  int64  \n",
            "dtypes: float64(13), int64(10)\n",
            "memory usage: 6.7 MB\n"
          ],
          "name": "stdout"
        }
      ]
    },
    {
      "cell_type": "code",
      "metadata": {
        "id": "CIvZ3sC8UqGu"
      },
      "source": [
        "import numpy as np \n",
        "import matplotlib.pyplot as plt \n",
        "import pandas as pd\n",
        "from sklearn.model_selection import train_test_split\n",
        "from sklearn.preprocessing import StandardScaler\n",
        "from sklearn.svm import SVC \n",
        "from sklearn.metrics import confusion_matrix \n",
        "from sklearn.model_selection import cross_val_score "
      ],
      "execution_count": null,
      "outputs": []
    },
    {
      "cell_type": "code",
      "metadata": {
        "id": "PFWM5orAVIcp"
      },
      "source": [
        "X_train, X_test, y_train, y_test = train_test_split(X, y, test_size = 0.3, random_state = 0)\n",
        "# Feature Scaling \n",
        "sc = StandardScaler() \n",
        "X_train = sc.fit_transform(X_train) \n",
        "X_test = sc.transform(X_test)"
      ],
      "execution_count": null,
      "outputs": []
    },
    {
      "cell_type": "code",
      "metadata": {
        "id": "iqkZijCYVPXc",
        "colab": {
          "base_uri": "https://localhost:8080/",
          "height": 84
        },
        "outputId": "f336e805-5e22-45e2-c69b-b4cbd632d294"
      },
      "source": [
        "# Fitting Kernel SVM to the Training set \n",
        "classifier = SVC(kernel = 'rbf', random_state = 0,  ) \n",
        "classifier.fit(X_train, y_train) \n",
        "# Predicting the Test set results \n",
        "y_pred = classifier.predict(X_test)\n",
        "# Making the Confusion Matrix \n",
        "cm = confusion_matrix(y_test, y_pred)\n",
        "print(cm)\n",
        "print('ACCURACY RATE: ',(cm[0,0]+cm[1,1])/90)\n",
        "print('ERROR RATE:',(cm[0,1]+cm[1,0])/90)"
      ],
      "execution_count": null,
      "outputs": [
        {
          "output_type": "stream",
          "text": [
            "[[6727  333]\n",
            " [1265  675]]\n",
            "ACCURACY RATE:  82.24444444444444\n",
            "ERROR RATE: 17.755555555555556\n"
          ],
          "name": "stdout"
        }
      ]
    },
    {
      "cell_type": "code",
      "metadata": {
        "id": "57rjBsSTVUkg",
        "colab": {
          "base_uri": "https://localhost:8080/",
          "height": 117
        },
        "outputId": "a129a1e9-b9c0-4317-9904-3fd511d6db6c"
      },
      "source": [
        "for i in range (5,11):\n",
        "    accuracies = cross_val_score(estimator = classifier, X = X_train, y = y_train, cv = i) \n",
        "    print('Mean Accuracy when k=',i,'=',accuracies.mean())"
      ],
      "execution_count": null,
      "outputs": [
        {
          "output_type": "stream",
          "text": [
            "Mean Accuracy when k= 5 = 0.8181904761904761\n",
            "Mean Accuracy when k= 6 = 0.8177142857142856\n",
            "Mean Accuracy when k= 7 = 0.8175714285714285\n",
            "Mean Accuracy when k= 8 = 0.8176190476190477\n",
            "Mean Accuracy when k= 9 = 0.8171896593217157\n",
            "Mean Accuracy when k= 10 = 0.8174285714285714\n"
          ],
          "name": "stdout"
        }
      ]
    },
    {
      "cell_type": "code",
      "metadata": {
        "id": "hRFjMimjVkEr",
        "colab": {
          "base_uri": "https://localhost:8080/",
          "height": 351
        },
        "outputId": "8c3dfadd-ddba-4692-8eb5-f164324e773e"
      },
      "source": [
        "from sklearn.ensemble import RandomForestClassifier\n",
        "for i in range (7,11):\n",
        "    classifier=RandomForestClassifier(n_estimators=i,criterion='entropy',random_state=0)\n",
        "    classifier.fit(X_train,y_train)\n",
        "    y_pred=classifier.predict(X_test)\n",
        "    cm=confusion_matrix(y_test, y_pred)\n",
        "    print('-------ESTIMATORS=',i,'-------')\n",
        "    print(cm)\n",
        "    print('ACCURACY RATE: ',(cm[0,0]+cm[1,1])/90)\n",
        "    print('ERROR RATE:',(cm[0,1]+cm[1,0])/90)"
      ],
      "execution_count": null,
      "outputs": [
        {
          "output_type": "stream",
          "text": [
            "-------ESTIMATORS= 7 -------\n",
            "[[6516  544]\n",
            " [1252  688]]\n",
            "ACCURACY RATE:  80.04444444444445\n",
            "ERROR RATE: 19.955555555555556\n",
            "-------ESTIMATORS= 8 -------\n",
            "[[6670  390]\n",
            " [1365  575]]\n",
            "ACCURACY RATE:  80.5\n",
            "ERROR RATE: 19.5\n",
            "-------ESTIMATORS= 9 -------\n",
            "[[6550  510]\n",
            " [1254  686]]\n",
            "ACCURACY RATE:  80.4\n",
            "ERROR RATE: 19.6\n",
            "-------ESTIMATORS= 10 -------\n",
            "[[6696  364]\n",
            " [1342  598]]\n",
            "ACCURACY RATE:  81.04444444444445\n",
            "ERROR RATE: 18.955555555555556\n"
          ],
          "name": "stdout"
        }
      ]
    },
    {
      "cell_type": "code",
      "metadata": {
        "id": "J6Bm0cIvW_pi",
        "colab": {
          "base_uri": "https://localhost:8080/",
          "height": 84
        },
        "outputId": "3a9e33d5-8bd7-40a5-bcf7-f8ead83a9d5d"
      },
      "source": [
        "for i in range (7,11):\n",
        "    accuracies = cross_val_score(estimator = classifier, X = X_train, y = y_train, cv = i) \n",
        "    print('Mean Accuracy when k=',i,'=',accuracies.mean()*100)"
      ],
      "execution_count": null,
      "outputs": [
        {
          "output_type": "stream",
          "text": [
            "Mean Accuracy when k= 7 = 80.41428571428571\n",
            "Mean Accuracy when k= 8 = 80.11904761904762\n",
            "Mean Accuracy when k= 9 = 80.46181894267427\n",
            "Mean Accuracy when k= 10 = 80.24761904761904\n"
          ],
          "name": "stdout"
        }
      ]
    },
    {
      "cell_type": "code",
      "metadata": {
        "id": "pyCA4kzp4vxa"
      },
      "source": [
        "from sklearn.linear_model import LogisticRegression\n",
        "from sklearn.metrics import accuracy_score,confusion_matrix,classification_report, plot_confusion_matrix\n",
        "from sklearn.model_selection import KFold\n",
        "from sklearn.model_selection import GridSearchCV"
      ],
      "execution_count": null,
      "outputs": []
    },
    {
      "cell_type": "code",
      "metadata": {
        "id": "M4JxKio86Rhw"
      },
      "source": [
        "log_class=LogisticRegression()\n",
        "grid={'C':10.0 **np.arange(-2,3),'penalty':['l1','l2']}\n",
        "cv=KFold(n_splits=5)"
      ],
      "execution_count": null,
      "outputs": []
    },
    {
      "cell_type": "code",
      "metadata": {
        "id": "mBSrdkiK7azP"
      },
      "source": [
        "from sklearn.model_selection import train_test_split\n",
        "X_train,X_test,y_train,y_test=train_test_split(X,y,train_size=0.7)"
      ],
      "execution_count": null,
      "outputs": []
    },
    {
      "cell_type": "code",
      "metadata": {
        "id": "mZQQboxa6_8o",
        "colab": {
          "base_uri": "https://localhost:8080/",
          "height": 455
        },
        "outputId": "5274212f-6413-4493-ce9d-2e459757d950"
      },
      "source": [
        "clf=GridSearchCV(log_class,grid,cv=cv,n_jobs=-1,scoring='f1_macro')\n",
        "clf.fit(X_train,y_train)"
      ],
      "execution_count": null,
      "outputs": [
        {
          "output_type": "stream",
          "text": [
            "/usr/local/lib/python3.6/dist-packages/sklearn/linear_model/_logistic.py:940: ConvergenceWarning: lbfgs failed to converge (status=1):\n",
            "STOP: TOTAL NO. of ITERATIONS REACHED LIMIT.\n",
            "\n",
            "Increase the number of iterations (max_iter) or scale the data as shown in:\n",
            "    https://scikit-learn.org/stable/modules/preprocessing.html\n",
            "Please also refer to the documentation for alternative solver options:\n",
            "    https://scikit-learn.org/stable/modules/linear_model.html#logistic-regression\n",
            "  extra_warning_msg=_LOGISTIC_SOLVER_CONVERGENCE_MSG)\n"
          ],
          "name": "stderr"
        },
        {
          "output_type": "execute_result",
          "data": {
            "text/plain": [
              "GridSearchCV(cv=KFold(n_splits=5, random_state=None, shuffle=False),\n",
              "             error_score=nan,\n",
              "             estimator=LogisticRegression(C=1.0, class_weight=None, dual=False,\n",
              "                                          fit_intercept=True,\n",
              "                                          intercept_scaling=1, l1_ratio=None,\n",
              "                                          max_iter=100, multi_class='auto',\n",
              "                                          n_jobs=None, penalty='l2',\n",
              "                                          random_state=None, solver='lbfgs',\n",
              "                                          tol=0.0001, verbose=0,\n",
              "                                          warm_start=False),\n",
              "             iid='deprecated', n_jobs=-1,\n",
              "             param_grid={'C': array([1.e-02, 1.e-01, 1.e+00, 1.e+01, 1.e+02]),\n",
              "                         'penalty': ['l1', 'l2']},\n",
              "             pre_dispatch='2*n_jobs', refit=True, return_train_score=False,\n",
              "             scoring='f1_macro', verbose=0)"
            ]
          },
          "metadata": {
            "tags": []
          },
          "execution_count": 63
        }
      ]
    },
    {
      "cell_type": "code",
      "metadata": {
        "id": "G4o528Vv-DFp",
        "colab": {
          "base_uri": "https://localhost:8080/",
          "height": 271
        },
        "outputId": "410ed34d-ed35-4110-babd-55e976faf5be"
      },
      "source": [
        "y_pred=clf.predict(X_test)\n",
        "print(confusion_matrix(y_test,y_pred))\n",
        "print('------------------------')\n",
        "print(accuracy_score(y_test,y_pred))\n",
        "print('------------------------')\n",
        "print(classification_report(y_test,y_pred))"
      ],
      "execution_count": null,
      "outputs": [
        {
          "output_type": "stream",
          "text": [
            "[[7025    1]\n",
            " [1974    0]]\n",
            "------------------------\n",
            "0.7805555555555556\n",
            "------------------------\n",
            "              precision    recall  f1-score   support\n",
            "\n",
            "           0       0.78      1.00      0.88      7026\n",
            "           1       0.00      0.00      0.00      1974\n",
            "\n",
            "    accuracy                           0.78      9000\n",
            "   macro avg       0.39      0.50      0.44      9000\n",
            "weighted avg       0.61      0.78      0.68      9000\n",
            "\n"
          ],
          "name": "stdout"
        }
      ]
    },
    {
      "cell_type": "code",
      "metadata": {
        "id": "afWezT2X_S0K",
        "colab": {
          "base_uri": "https://localhost:8080/",
          "height": 182
        },
        "outputId": "cbb72f79-23ae-49e1-dc86-0c93828fb682"
      },
      "source": [
        "from sklearn.ensemble import RandomForestClassifier\n",
        "classifier=RandomForestClassifier()\n",
        "classifier.fit(X_train,y_train)"
      ],
      "execution_count": null,
      "outputs": [
        {
          "output_type": "execute_result",
          "data": {
            "text/plain": [
              "RandomForestClassifier(bootstrap=True, ccp_alpha=0.0, class_weight=None,\n",
              "                       criterion='gini', max_depth=None, max_features='auto',\n",
              "                       max_leaf_nodes=None, max_samples=None,\n",
              "                       min_impurity_decrease=0.0, min_impurity_split=None,\n",
              "                       min_samples_leaf=1, min_samples_split=2,\n",
              "                       min_weight_fraction_leaf=0.0, n_estimators=100,\n",
              "                       n_jobs=None, oob_score=False, random_state=None,\n",
              "                       verbose=0, warm_start=False)"
            ]
          },
          "metadata": {
            "tags": []
          },
          "execution_count": 70
        }
      ]
    },
    {
      "cell_type": "code",
      "metadata": {
        "id": "XWzK97_o_uP7",
        "colab": {
          "base_uri": "https://localhost:8080/",
          "height": 271
        },
        "outputId": "e0f2e76f-fe95-4566-d017-5e0043a998fd"
      },
      "source": [
        "y_pred=classifier.predict(X_test)\n",
        "print(confusion_matrix(y_test,y_pred))\n",
        "print('------------------------')\n",
        "print(accuracy_score(y_test,y_pred))\n",
        "print('------------------------')\n",
        "print(classification_report(y_test,y_pred))\n",
        "\n",
        "titles_options = [(\"Confusion matrix, without normalization\", None),\n",
        "                  (\"Normalized confusion matrix\", 'true')]\n",
        "for title, normalize in titles_options:\n",
        "    disp = plot_confusion_matrix(classifier, X_test, y_test,\n",
        "                                 display_labels=class_names,\n",
        "                                 cmap=plt.cm.Blues,\n",
        "                                 normalize=normalize)\n",
        "    disp.ax_.set_title(title)\n",
        "\n",
        "    print(title)\n",
        "    print(disp.confusion_matrix)\n",
        "\n",
        "plt.show()"
      ],
      "execution_count": null,
      "outputs": [
        {
          "output_type": "stream",
          "text": [
            "[[6661  365]\n",
            " [1232  742]]\n",
            "------------------------\n",
            "0.8225555555555556\n",
            "------------------------\n",
            "              precision    recall  f1-score   support\n",
            "\n",
            "           0       0.84      0.95      0.89      7026\n",
            "           1       0.67      0.38      0.48      1974\n",
            "\n",
            "    accuracy                           0.82      9000\n",
            "   macro avg       0.76      0.66      0.69      9000\n",
            "weighted avg       0.81      0.82      0.80      9000\n",
            "\n"
          ],
          "name": "stdout"
        }
      ]
    }
  ]
}